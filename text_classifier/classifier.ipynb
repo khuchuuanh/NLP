{
  "cells": [
    {
      "cell_type": "code",
      "execution_count": null,
      "metadata": {
        "colab": {
          "base_uri": "https://localhost:8080/"
        },
        "id": "Y23d5wcKHgtl",
        "outputId": "927764c8-e3e9-4f5e-d875-4264d0a9244f"
      },
      "outputs": [
        {
          "name": "stdout",
          "output_type": "stream",
          "text": [
            "Looking in indexes: https://pypi.org/simple, https://us-python.pkg.dev/colab-wheels/public/simple/\n",
            "Collecting contractions\n",
            "  Downloading contractions-0.1.73-py2.py3-none-any.whl (8.7 kB)\n",
            "Collecting textsearch>=0.0.21 (from contractions)\n",
            "  Downloading textsearch-0.0.24-py2.py3-none-any.whl (7.6 kB)\n",
            "Collecting anyascii (from textsearch>=0.0.21->contractions)\n",
            "  Downloading anyascii-0.3.2-py3-none-any.whl (289 kB)\n",
            "\u001b[2K     \u001b[90m━━━━━━━━━━━━━━━━━━━━━━━━━━━━━━━━━━━━━━━\u001b[0m \u001b[32m289.9/289.9 kB\u001b[0m \u001b[31m6.6 MB/s\u001b[0m eta \u001b[36m0:00:00\u001b[0m\n",
            "\u001b[?25hCollecting pyahocorasick (from textsearch>=0.0.21->contractions)\n",
            "  Downloading pyahocorasick-2.0.0-cp310-cp310-manylinux_2_5_x86_64.manylinux1_x86_64.manylinux_2_12_x86_64.manylinux2010_x86_64.whl (110 kB)\n",
            "\u001b[2K     \u001b[90m━━━━━━━━━━━━━━━━━━━━━━━━━━━━━━━━━━━━━━\u001b[0m \u001b[32m110.8/110.8 kB\u001b[0m \u001b[31m14.0 MB/s\u001b[0m eta \u001b[36m0:00:00\u001b[0m\n",
            "\u001b[?25hInstalling collected packages: pyahocorasick, anyascii, textsearch, contractions\n",
            "Successfully installed anyascii-0.3.2 contractions-0.1.73 pyahocorasick-2.0.0 textsearch-0.0.24\n"
          ]
        }
      ],
      "source": [
        "!pip install 'contractions'"
      ]
    },
    {
      "cell_type": "code",
      "execution_count": null,
      "metadata": {
        "id": "kKwUbi-d4HnL"
      },
      "outputs": [],
      "source": [
        "import tensorflow_datasets as tfds\n",
        "import tensorflow as tf\n",
        "import numpy as np\n",
        "from tensorflow.keras.preprocessing.text import Tokenizer\n",
        "from tensorflow.keras.preprocessing.sequence import pad_sequences\n",
        "from tensorflow.keras.models import Sequential\n",
        "from tensorflow.keras.layers import Embedding, SimpleRNN, Dense, LSTM, Bidirectional, GRU, BatchNormalization, Dropout\n",
        "import matplotlib.pyplot as plt\n",
        "import string\n",
        "import re\n",
        "import contractions"
      ]
    },
    {
      "cell_type": "code",
      "execution_count": null,
      "metadata": {
        "colab": {
          "base_uri": "https://localhost:8080/",
          "height": 136,
          "referenced_widgets": [
            "836cade2c71943c2a5ea1cd1c36e8629",
            "be76102dacbb4cd7a68c09b5a5733aaa",
            "abba9fd118cd4d7ebe893a89218e692b",
            "f4ce31e3c29e4cb4ab355f0d44a92054",
            "c14649ab053d4ad68322e5458d7ca6fa",
            "35b331aed02f4633a71092bf2fb00889",
            "1b6f72c5fa3644f580d771dd926b392f",
            "e70607b30b8f41bb8dbf39f05257c95e",
            "a5ea089ac4ce42df8b4a445207ab72ca",
            "4ad33f1aba7e47ebb387d4c4066604b0",
            "f74c35dfd3934df8bcf4f072d070d327",
            "ad9f5fec5df34cf18cf2a4a1b4ca08a9",
            "41f07363255b4f58884c85ccd4dc1fc3",
            "e7cae897684d4c6ba48927fd3991e193",
            "ce4216e59803412794145a6d1e972091",
            "70c39ed4d5164b0b84cc6adc0f305448",
            "e4d51b94d2f14ed6b5efedd6348b7d70",
            "9ead5c9d353a4018a51b137a6a21d0d1",
            "3772af58b1994eaa8978eb99a5517205",
            "55aef4cb517e4954a1771fbb68947669",
            "35eef20f18664669b6bfa9917c2929d5",
            "40bce0a94d244737b5f6632aa20b4446",
            "e6e0c79bc9de4e96ad15fc596f72294d",
            "e78c02cb272e445b9f33772936da6040",
            "60350dc378c74cefac275323de8d7841",
            "0d4b4a04b9a241368bde5c32be589e29",
            "96c57454166a4e0383aeba8e31e46a51",
            "e7f493753b6c45889e0c682aedb7a1f3",
            "8894ec2e0a43489686fbf12806dafdbf",
            "b0070ace81794e7c8b1197076c506d8f",
            "ff13b5a7ef634d8aad1af1bad2432b4e",
            "f9e5dcbcb9a1496e9b9a95834dcbe9c7",
            "ea78e5d8a3fc4156909069a8faa1907d",
            "b31ab53ea97a44e380e95966bc85e252",
            "b3541008f6c341c6a96bf824db55824a",
            "db63d4ce683a4fa5a85ae0f9ef1f235e",
            "096cc8c5a31e413ebdf4f4875119518d",
            "ae11f85c30ba4528bfedb2989e795b54",
            "02172fdb87fc47ca842b20a9dc23f6e2",
            "7e035503e89a4670848892c058e3dbe9",
            "9d4d3d16039d4a3e93d08cde55489384",
            "1342077f28eb4cf5b86bb9e78175b228",
            "dce558bd10e642cb8b71083a671b03de",
            "ccb7dee81c1248d2875e2171e9924508",
            "fbb71b1dc0d04fe7a8f0facf537bd5ab",
            "719fca7295924089ad40dd9c418baa82",
            "8537589c5fbb4d9ebd7a4a8e2ae50a14",
            "c023a3cb01ce42f79090f930da5bb27b",
            "25988dbd9df34a3987593b242884e080",
            "54ca292c6c02462c8d29c2cbcdb30353",
            "436071dfbef7428b810ee18a8c94ffd0",
            "f68e7941ff764a138c7b6573899d6f00",
            "c10258721abf451395d3178796654d16",
            "4d53a9c8db4b42b3b1db6a9426087cbf",
            "25706a087ebf4a19a0ef807b78ec8c91",
            "f7ddcc3de45e49d38b642f6521daa60d",
            "caf85b4f61d541cb936c3e81c7af1575",
            "79d6bb826d04413c8bc8038ca565dab1",
            "43b9c47a05124f119f0d4f5cf6dc960c",
            "5775d060e7cb4874976486a923dbaa4d",
            "1769966d020f4badaf2bb93987f49b2f",
            "16eed15751984268ad8130933663e130",
            "e66a8312e66c480b903889e0daa11083",
            "1911d2ffba79456f804989b2d2b8314c",
            "30f34c6e4ebb4234b07e4f66ab7056c0",
            "ceca885ab90b4f7d894ade1f45d3c2c5",
            "71022952613c456a8e4885b4e63eb607",
            "c0b380855dcc48ee9894b3532ca20a3a",
            "6fbd9d2f79f7447da707b073210d56ae",
            "1917881118b549d4bb6d80ceefdd2ce7",
            "d624ee8d1be440a6a2c4cbf41be0f3f4",
            "128269feb396408b8bd2eb55a56ad2a8",
            "008535f09f7544c298c66c7fc398ecc7",
            "ca8ab3f37abc4d96aa1bb0e0b2dda6de",
            "e38c67708cd541e29a0afb5a8fa9c7f7",
            "fb04a7add0564b96ac1ab6c46b22b2f9",
            "ff86487cd44e4b669a1db9d4176f053c",
            "c01947bbbff24f2b915083aa688ebfc3",
            "a1f0baf85ef844c78638744ee603c878",
            "f35b263062024f31a3c73649826eddbd",
            "90ba017ec5324795b09fc3b183d87d7a",
            "8792fbb950294d1fa2c04bad4c2a64c1",
            "aac175c1568c4926b3331fac4ff40bc7",
            "498f7f3c0b774cf69ee4fc968f0b1ce5",
            "b446c42995de49a5badc2463547828b8",
            "b9bad9607ce344d1b0fa7b79cc57342a",
            "52ba04c9c9604f3ea1f25fffe9fa71ca",
            "8892f2cd39964823adc864b4f93665df",
            "3b661b7a9450467785c25f380087e356",
            "7ad044f69c92470f87b8c5d2d991bf46",
            "ba1493265a9e48a189f6504a317dcf9b",
            "b6a46d051d8644a1b2b6a8d047434679",
            "0efd2ffb28fd438cb1df6c929e3e174e",
            "aace268b96af4619b9db8f9855cfbd5f",
            "4bc06358de334d5ca46a33742b833cfd",
            "6889bb74b9504900991cf0811dadf195",
            "93294a99b49c42cdad2dd8f9a71c3d42",
            "a862a93dfc4f4c629e30fb83a4945761",
            "d2a827bbace54cbfac428c0af3e1b995"
          ]
        },
        "id": "1fWn0nvV5Wsn",
        "outputId": "4e5b8297-5522-41b7-9487-37cf7b9eca40"
      },
      "outputs": [
        {
          "name": "stdout",
          "output_type": "stream",
          "text": [
            "Downloading and preparing dataset 80.23 MiB (download: 80.23 MiB, generated: Unknown size, total: 80.23 MiB) to /root/tensorflow_datasets/imdb_reviews/plain_text/1.0.0...\n"
          ]
        },
        {
          "data": {
            "application/vnd.jupyter.widget-view+json": {
              "model_id": "836cade2c71943c2a5ea1cd1c36e8629",
              "version_major": 2,
              "version_minor": 0
            },
            "text/plain": [
              "Dl Completed...: 0 url [00:00, ? url/s]"
            ]
          },
          "metadata": {},
          "output_type": "display_data"
        },
        {
          "data": {
            "application/vnd.jupyter.widget-view+json": {
              "model_id": "ad9f5fec5df34cf18cf2a4a1b4ca08a9",
              "version_major": 2,
              "version_minor": 0
            },
            "text/plain": [
              "Dl Size...: 0 MiB [00:00, ? MiB/s]"
            ]
          },
          "metadata": {},
          "output_type": "display_data"
        },
        {
          "data": {
            "application/vnd.jupyter.widget-view+json": {
              "model_id": "e6e0c79bc9de4e96ad15fc596f72294d",
              "version_major": 2,
              "version_minor": 0
            },
            "text/plain": [
              "Generating splits...:   0%|          | 0/3 [00:00<?, ? splits/s]"
            ]
          },
          "metadata": {},
          "output_type": "display_data"
        },
        {
          "data": {
            "application/vnd.jupyter.widget-view+json": {
              "model_id": "b31ab53ea97a44e380e95966bc85e252",
              "version_major": 2,
              "version_minor": 0
            },
            "text/plain": [
              "Generating train examples...:   0%|          | 0/25000 [00:00<?, ? examples/s]"
            ]
          },
          "metadata": {},
          "output_type": "display_data"
        },
        {
          "data": {
            "application/vnd.jupyter.widget-view+json": {
              "model_id": "fbb71b1dc0d04fe7a8f0facf537bd5ab",
              "version_major": 2,
              "version_minor": 0
            },
            "text/plain": [
              "Shuffling /root/tensorflow_datasets/imdb_reviews/plain_text/1.0.0.incompleteKAFX4Y/imdb_reviews-train.tfrecord…"
            ]
          },
          "metadata": {},
          "output_type": "display_data"
        },
        {
          "data": {
            "application/vnd.jupyter.widget-view+json": {
              "model_id": "f7ddcc3de45e49d38b642f6521daa60d",
              "version_major": 2,
              "version_minor": 0
            },
            "text/plain": [
              "Generating test examples...:   0%|          | 0/25000 [00:00<?, ? examples/s]"
            ]
          },
          "metadata": {},
          "output_type": "display_data"
        },
        {
          "data": {
            "application/vnd.jupyter.widget-view+json": {
              "model_id": "71022952613c456a8e4885b4e63eb607",
              "version_major": 2,
              "version_minor": 0
            },
            "text/plain": [
              "Shuffling /root/tensorflow_datasets/imdb_reviews/plain_text/1.0.0.incompleteKAFX4Y/imdb_reviews-test.tfrecord*…"
            ]
          },
          "metadata": {},
          "output_type": "display_data"
        },
        {
          "data": {
            "application/vnd.jupyter.widget-view+json": {
              "model_id": "c01947bbbff24f2b915083aa688ebfc3",
              "version_major": 2,
              "version_minor": 0
            },
            "text/plain": [
              "Generating unsupervised examples...:   0%|          | 0/50000 [00:00<?, ? examples/s]"
            ]
          },
          "metadata": {},
          "output_type": "display_data"
        },
        {
          "data": {
            "application/vnd.jupyter.widget-view+json": {
              "model_id": "3b661b7a9450467785c25f380087e356",
              "version_major": 2,
              "version_minor": 0
            },
            "text/plain": [
              "Shuffling /root/tensorflow_datasets/imdb_reviews/plain_text/1.0.0.incompleteKAFX4Y/imdb_reviews-unsupervised.t…"
            ]
          },
          "metadata": {},
          "output_type": "display_data"
        },
        {
          "name": "stdout",
          "output_type": "stream",
          "text": [
            "Dataset imdb_reviews downloaded and prepared to /root/tensorflow_datasets/imdb_reviews/plain_text/1.0.0. Subsequent calls will reuse this data.\n"
          ]
        }
      ],
      "source": [
        "imdb, info = tfds.load('imdb_reviews', with_info = True, as_supervised = True)"
      ]
    },
    {
      "cell_type": "code",
      "execution_count": null,
      "metadata": {
        "colab": {
          "base_uri": "https://localhost:8080/"
        },
        "id": "NF7eiuP15oXu",
        "outputId": "623e2722-d2a0-4a36-b10d-eab929d28483"
      },
      "outputs": [
        {
          "data": {
            "text/plain": [
              "{Split('train'): <_PrefetchDataset element_spec=(TensorSpec(shape=(), dtype=tf.string, name=None), TensorSpec(shape=(), dtype=tf.int64, name=None))>,\n",
              " Split('test'): <_PrefetchDataset element_spec=(TensorSpec(shape=(), dtype=tf.string, name=None), TensorSpec(shape=(), dtype=tf.int64, name=None))>,\n",
              " Split('unsupervised'): <_PrefetchDataset element_spec=(TensorSpec(shape=(), dtype=tf.string, name=None), TensorSpec(shape=(), dtype=tf.int64, name=None))>}"
            ]
          },
          "execution_count": 4,
          "metadata": {},
          "output_type": "execute_result"
        }
      ],
      "source": [
        "imdb"
      ]
    },
    {
      "cell_type": "code",
      "execution_count": null,
      "metadata": {
        "colab": {
          "base_uri": "https://localhost:8080/"
        },
        "id": "wUhaTZUN533o",
        "outputId": "34ab7ead-aa85-487b-d4d0-39f3097e60a3"
      },
      "outputs": [
        {
          "data": {
            "text/plain": [
              "tfds.core.DatasetInfo(\n",
              "    name='imdb_reviews',\n",
              "    full_name='imdb_reviews/plain_text/1.0.0',\n",
              "    description=\"\"\"\n",
              "    Large Movie Review Dataset. This is a dataset for binary sentiment\n",
              "    classification containing substantially more data than previous benchmark\n",
              "    datasets. We provide a set of 25,000 highly polar movie reviews for training,\n",
              "    and 25,000 for testing. There is additional unlabeled data for use as well.\n",
              "    \"\"\",\n",
              "    config_description=\"\"\"\n",
              "    Plain text\n",
              "    \"\"\",\n",
              "    homepage='http://ai.stanford.edu/~amaas/data/sentiment/',\n",
              "    data_path=PosixGPath('/tmp/tmpb4q8e4sftfds'),\n",
              "    file_format=tfrecord,\n",
              "    download_size=80.23 MiB,\n",
              "    dataset_size=129.83 MiB,\n",
              "    features=FeaturesDict({\n",
              "        'label': ClassLabel(shape=(), dtype=int64, num_classes=2),\n",
              "        'text': Text(shape=(), dtype=string),\n",
              "    }),\n",
              "    supervised_keys=('text', 'label'),\n",
              "    disable_shuffling=False,\n",
              "    splits={\n",
              "        'test': <SplitInfo num_examples=25000, num_shards=1>,\n",
              "        'train': <SplitInfo num_examples=25000, num_shards=1>,\n",
              "        'unsupervised': <SplitInfo num_examples=50000, num_shards=1>,\n",
              "    },\n",
              "    citation=\"\"\"@InProceedings{maas-EtAl:2011:ACL-HLT2011,\n",
              "      author    = {Maas, Andrew L.  and  Daly, Raymond E.  and  Pham, Peter T.  and  Huang, Dan  and  Ng, Andrew Y.  and  Potts, Christopher},\n",
              "      title     = {Learning Word Vectors for Sentiment Analysis},\n",
              "      booktitle = {Proceedings of the 49th Annual Meeting of the Association for Computational Linguistics: Human Language Technologies},\n",
              "      month     = {June},\n",
              "      year      = {2011},\n",
              "      address   = {Portland, Oregon, USA},\n",
              "      publisher = {Association for Computational Linguistics},\n",
              "      pages     = {142--150},\n",
              "      url       = {http://www.aclweb.org/anthology/P11-1015}\n",
              "    }\"\"\",\n",
              ")"
            ]
          },
          "execution_count": 5,
          "metadata": {},
          "output_type": "execute_result"
        }
      ],
      "source": [
        "info"
      ]
    },
    {
      "cell_type": "code",
      "execution_count": null,
      "metadata": {
        "id": "j5OLmjmC6E5_"
      },
      "outputs": [],
      "source": [
        "train_data, test_data = imdb['train'], imdb['test']\n"
      ]
    },
    {
      "cell_type": "code",
      "execution_count": null,
      "metadata": {
        "id": "8yjQJLkP6XUS"
      },
      "outputs": [],
      "source": [
        "train_sentence = []\n",
        "test_setences = []\n",
        "\n",
        "train_labels = []\n",
        "test_labels = []\n",
        "\n",
        "for s, l in train_data:\n",
        "  train_sentence.append(str(s.numpy()))\n",
        "  train_labels.append(l.numpy())\n",
        "\n",
        "\n",
        "for s,l in test_data:\n",
        "  test_setences.append(str(s.numpy()))\n",
        "  test_labels.append(l.numpy())\n"
      ]
    },
    {
      "cell_type": "code",
      "execution_count": null,
      "metadata": {
        "id": "YVrJbNMu8O5_"
      },
      "outputs": [],
      "source": [
        "def clean_data(text):\n",
        "  text = text.replace(\"\\\\\\\\\\\\\", ' ' )\n",
        "  text = text.replace('\\\\xc2\\\\x96', \" \")\n",
        "  text = text.replace('\\\\xc3\\\\xa9d', \" \")\n",
        "  text = text.replace('<br /><br />', \" \")\n",
        "  text = text.replace( \"\\\\\", \" \")\n",
        "  text = text.replace( \"b\", \" \")\n",
        "  text = contractions.fix(text)\n",
        "  text = text.lower()\n",
        "  punc_number = string.punctuation\n",
        "  for c in punc_number:\n",
        "    text = text.replace(c, ' ')\n",
        "\n",
        "  return ' '.join(text.split())"
      ]
    },
    {
      "cell_type": "code",
      "execution_count": null,
      "metadata": {
        "colab": {
          "base_uri": "https://localhost:8080/",
          "height": 104
        },
        "id": "8ZZF0t9C6uQc",
        "outputId": "6c7b48a9-9306-40ba-ae56-f08fa0b9e666"
      },
      "outputs": [
        {
          "data": {
            "application/vnd.google.colaboratory.intrinsic+json": {
              "type": "string"
            },
            "text/plain": [
              "'this was an a solutely terri le movie do not e lured in y christopher walken or michael ironside both are great actors ut this must simply e their worst role in history even their great acting could not redeem this movie s ridiculous storyline this movie is an early nineties us propaganda piece the most pathetic scenes were those when the colum ian re els were making their cases for revolutions maria conchita alonso appeared phony and her pseudo love affair with walken was nothing ut a pathetic emotional plug in a movie that was devoid of any real meaning i am disappointed that there are movies like this ruining actor s like christopher walken s good name i could arely sit through it'"
            ]
          },
          "execution_count": 9,
          "metadata": {},
          "output_type": "execute_result"
        }
      ],
      "source": [
        "clean_data(train_sentence[0])"
      ]
    },
    {
      "cell_type": "code",
      "execution_count": null,
      "metadata": {
        "id": "VtBRIkVpB8L5"
      },
      "outputs": [],
      "source": [
        "train_sentence = [clean_data(text) for text in train_sentence]\n",
        "test_setences = [clean_data(text) for text in test_setences]"
      ]
    },
    {
      "cell_type": "code",
      "execution_count": null,
      "metadata": {
        "id": "Sfo0fEdHC-m0"
      },
      "outputs": [],
      "source": [
        "vocab_size = 10000\n",
        "embedding_dim = 300\n",
        "max_len = 100\n",
        "hidden_size = 256"
      ]
    },
    {
      "cell_type": "code",
      "execution_count": null,
      "metadata": {
        "id": "qc4TQ1UlDYzI"
      },
      "outputs": [],
      "source": [
        "tokenizer = Tokenizer(num_words= vocab_size, oov_token = \"<OOV>\")\n",
        "tokenizer.fit_on_texts(train_sentence)"
      ]
    },
    {
      "cell_type": "code",
      "execution_count": null,
      "metadata": {
        "id": "9BzZCWrvGaX4"
      },
      "outputs": [],
      "source": [
        "train_sequences  = tokenizer.texts_to_sequences(train_sentence)\n",
        "test_sequences = tokenizer.texts_to_sequences(test_setences)"
      ]
    },
    {
      "cell_type": "code",
      "execution_count": null,
      "metadata": {
        "id": "3RhU-bS3EkNY"
      },
      "outputs": [],
      "source": [
        "train_padded_sequences = pad_sequences(train_sequences, maxlen = max_len,\n",
        "                                       truncating = 'post', padding = 'post')\n",
        "\n",
        "test_padded_sequences  = pad_sequences(test_sequences, maxlen = max_len,\n",
        "                                       truncating = 'post', padding = 'post')"
      ]
    },
    {
      "cell_type": "code",
      "execution_count": null,
      "metadata": {
        "id": "QFupWSkdFP4x"
      },
      "outputs": [],
      "source": [
        "train_labels = np.array(train_labels)\n",
        "test_labels = np.array(test_labels)"
      ]
    },
    {
      "cell_type": "code",
      "execution_count": null,
      "metadata": {
        "colab": {
          "base_uri": "https://localhost:8080/"
        },
        "id": "BNXHPDhaIRvd",
        "outputId": "907ef30c-d744-488f-8883-7118eaf49585"
      },
      "outputs": [
        {
          "name": "stdout",
          "output_type": "stream",
          "text": [
            "Model: \"sequential\"\n",
            "_________________________________________________________________\n",
            " Layer (type)                Output Shape              Param #   \n",
            "=================================================================\n",
            " embedding (Embedding)       (None, 100, 300)          3000000   \n",
            "                                                                 \n",
            " simple_rnn (SimpleRNN)      (None, 256)               142592    \n",
            "                                                                 \n",
            " dense (Dense)               (None, 1)                 257       \n",
            "                                                                 \n",
            "=================================================================\n",
            "Total params: 3,142,849\n",
            "Trainable params: 3,142,849\n",
            "Non-trainable params: 0\n",
            "_________________________________________________________________\n"
          ]
        }
      ],
      "source": [
        "simple_rnn = Sequential([\n",
        "    Embedding(vocab_size, embedding_dim, input_length =max_len),\n",
        "    SimpleRNN(hidden_size),\n",
        "    Dense(1, activation = 'sigmoid')\n",
        "])\n",
        "\n",
        "simple_rnn.summary()"
      ]
    },
    {
      "cell_type": "code",
      "execution_count": null,
      "metadata": {
        "colab": {
          "base_uri": "https://localhost:8080/"
        },
        "id": "n_YqfbzrI3id",
        "outputId": "2eb7d51a-3ade-46d9-c5e0-86877027f25e"
      },
      "outputs": [
        {
          "name": "stdout",
          "output_type": "stream",
          "text": [
            "Epoch 1/10\n",
            "782/782 [==============================] - 145s 176ms/step - loss: 0.7058 - accuracy: 0.4990 - val_loss: 0.6963 - val_accuracy: 0.5076\n",
            "Epoch 2/10\n",
            "782/782 [==============================] - 101s 130ms/step - loss: 0.6959 - accuracy: 0.5120 - val_loss: 0.6944 - val_accuracy: 0.5122\n",
            "Epoch 3/10\n",
            "782/782 [==============================] - 107s 137ms/step - loss: 0.6782 - accuracy: 0.5647 - val_loss: 0.6947 - val_accuracy: 0.5350\n",
            "Epoch 4/10\n",
            "782/782 [==============================] - 95s 122ms/step - loss: 0.6389 - accuracy: 0.6174 - val_loss: 0.7180 - val_accuracy: 0.5280\n",
            "Epoch 5/10\n",
            "782/782 [==============================] - 120s 154ms/step - loss: 0.6014 - accuracy: 0.6614 - val_loss: 0.7132 - val_accuracy: 0.6024\n",
            "Epoch 6/10\n",
            "782/782 [==============================] - 99s 127ms/step - loss: 0.5684 - accuracy: 0.6979 - val_loss: 0.6857 - val_accuracy: 0.6486\n",
            "Epoch 7/10\n",
            "782/782 [==============================] - 96s 123ms/step - loss: 0.5181 - accuracy: 0.7469 - val_loss: 0.7544 - val_accuracy: 0.6081\n",
            "Epoch 8/10\n",
            "782/782 [==============================] - 104s 133ms/step - loss: 0.4984 - accuracy: 0.7654 - val_loss: 0.7543 - val_accuracy: 0.6458\n",
            "Epoch 9/10\n",
            "782/782 [==============================] - 98s 126ms/step - loss: 0.4502 - accuracy: 0.8024 - val_loss: 0.7061 - val_accuracy: 0.6586\n",
            "Epoch 10/10\n",
            "782/782 [==============================] - 105s 135ms/step - loss: 0.4672 - accuracy: 0.7812 - val_loss: 0.7403 - val_accuracy: 0.6294\n"
          ]
        }
      ],
      "source": [
        "simple_rnn.compile(loss = \"binary_crossentropy\",\n",
        "                   optimizer = 'adam',\n",
        "                   metrics = ['accuracy'])\n",
        "\n",
        "history_simple_rnn = simple_rnn.fit(train_padded_sequences, train_labels, validation_data = (test_padded_sequences, test_labels), epochs = 10)"
      ]
    },
    {
      "cell_type": "code",
      "execution_count": null,
      "metadata": {
        "colab": {
          "base_uri": "https://localhost:8080/",
          "height": 472
        },
        "id": "-9vZlv1lKibh",
        "outputId": "73a7687c-6b9c-4702-bdb8-1fdf52b337c9"
      },
      "outputs": [
        {
          "data": {
            "image/png": "[encoded data removed]",
            "text/plain": [
              "<Figure size 640x480 with 1 Axes>"
            ]
          },
          "metadata": {},
          "output_type": "display_data"
        }
      ],
      "source": [
        "plt.plot(history_simple_rnn.history['accuracy'])\n",
        "plt.plot(history_simple_rnn.history['val_accuracy'])\n",
        "plt.title('model accuracy')\n",
        "plt.ylabel('accuracy')\n",
        "plt.xlabel('epoch')\n",
        "plt.legend(['train', 'test'], loc = 'upper left')\n",
        "plt.show()"
      ]
    },
    {
      "cell_type": "code",
      "execution_count": null,
      "metadata": {
        "colab": {
          "base_uri": "https://localhost:8080/",
          "height": 472
        },
        "id": "q-OaIec3gMpN",
        "outputId": "f7ad5b9e-b503-477c-a3ad-2c6b2448a69a"
      },
      "outputs": [
        {
          "data": {
            "image/png": "[encoded data removed]",
            "text/plain": [
              "<Figure size 640x480 with 1 Axes>"
            ]
          },
          "metadata": {},
          "output_type": "display_data"
        }
      ],
      "source": [
        "plt.plot(history_simple_rnn.history['loss'])\n",
        "plt.plot(history_simple_rnn.history['val_loss'])\n",
        "plt.title('model loss')\n",
        "plt.ylabel('loss')\n",
        "plt.xlabel('epoch')\n",
        "plt.legend(['train', 'test'], loc = 'upper left')\n",
        "plt.show()"
      ]
    },
    {
      "cell_type": "code",
      "execution_count": null,
      "metadata": {
        "id": "2FiggHUGLnaE"
      },
      "outputs": [],
      "source": [
        "from tensorflow.keras.callbacks import ModelCheckpoint"
      ]
    },
    {
      "cell_type": "code",
      "execution_count": null,
      "metadata": {
        "id": "FIPPkIGJOVir"
      },
      "outputs": [],
      "source": [
        "checkpoint_path = \"./save_mode/Bidrect_rnn.ckpt\"\n",
        "cp_callback = ModelCheckpoint(\n",
        "    filepath = checkpoint_path,\n",
        "    save_weights_only = True,\n",
        "    verbose=1\n",
        ")"
      ]
    },
    {
      "cell_type": "code",
      "execution_count": null,
      "metadata": {
        "colab": {
          "base_uri": "https://localhost:8080/"
        },
        "id": "dH-1TEiALnXT",
        "outputId": "8cc93128-7d64-46e9-d256-abc449d10a21"
      },
      "outputs": [
        {
          "name": "stdout",
          "output_type": "stream",
          "text": [
            "Model: \"sequential_2\"\n",
            "_________________________________________________________________\n",
            " Layer (type)                Output Shape              Param #   \n",
            "=================================================================\n",
            " embedding_2 (Embedding)     (None, 100, 300)          3000000   \n",
            "                                                                 \n",
            " simple_rnn_3 (SimpleRNN)    (None, 100, 256)          142592    \n",
            "                                                                 \n",
            " bidirectional_1 (Bidirectio  (None, 512)              262656    \n",
            " nal)                                                            \n",
            "                                                                 \n",
            " dense_2 (Dense)             (None, 1)                 513       \n",
            "                                                                 \n",
            "=================================================================\n",
            "Total params: 3,405,761\n",
            "Trainable params: 3,405,761\n",
            "Non-trainable params: 0\n",
            "_________________________________________________________________\n"
          ]
        }
      ],
      "source": [
        "Bidrect_rnn = Sequential([\n",
        "    Embedding(vocab_size, embedding_dim, input_length =max_len),\n",
        "    SimpleRNN(hidden_size, return_sequences = True),\n",
        "    Bidirectional(SimpleRNN(hidden_size)),\n",
        "    Dense(1, activation = 'sigmoid')\n",
        "])\n",
        "\n",
        "Bidrect_rnn.summary()"
      ]
    },
    {
      "cell_type": "code",
      "execution_count": null,
      "metadata": {
        "colab": {
          "base_uri": "https://localhost:8080/"
        },
        "id": "_PdJNcZgNi4e",
        "outputId": "dce7f143-0994-4f4f-8aba-20fac6a4a198"
      },
      "outputs": [
        {
          "name": "stdout",
          "output_type": "stream",
          "text": [
            "Epoch 1/10\n",
            "98/98 [==============================] - ETA: 0s - loss: 0.7255 - acc: 0.5129\n",
            "Epoch 1: saving model to ./save_mode/Bidrect_rnn.ckpt\n",
            "98/98 [==============================] - 61s 584ms/step - loss: 0.7255 - acc: 0.5129 - val_loss: 0.6919 - val_acc: 0.5341\n",
            "Epoch 2/10\n",
            "98/98 [==============================] - ETA: 0s - loss: 0.6470 - acc: 0.6201\n",
            "Epoch 2: saving model to ./save_mode/Bidrect_rnn.ckpt\n",
            "98/98 [==============================] - 48s 488ms/step - loss: 0.6470 - acc: 0.6201 - val_loss: 0.6398 - val_acc: 0.6382\n",
            "Epoch 3/10\n",
            "98/98 [==============================] - ETA: 0s - loss: 0.5782 - acc: 0.6844\n",
            "Epoch 3: saving model to ./save_mode/Bidrect_rnn.ckpt\n",
            "98/98 [==============================] - 41s 418ms/step - loss: 0.5782 - acc: 0.6844 - val_loss: 0.6849 - val_acc: 0.6108\n",
            "Epoch 4/10\n",
            "98/98 [==============================] - ETA: 0s - loss: 0.5106 - acc: 0.7367\n",
            "Epoch 4: saving model to ./save_mode/Bidrect_rnn.ckpt\n",
            "98/98 [==============================] - 42s 434ms/step - loss: 0.5106 - acc: 0.7367 - val_loss: 0.6391 - val_acc: 0.6798\n",
            "Epoch 5/10\n",
            "98/98 [==============================] - ETA: 0s - loss: 0.4932 - acc: 0.7474\n",
            "Epoch 5: saving model to ./save_mode/Bidrect_rnn.ckpt\n",
            "98/98 [==============================] - 39s 404ms/step - loss: 0.4932 - acc: 0.7474 - val_loss: 0.7105 - val_acc: 0.6240\n",
            "Epoch 6/10\n",
            "98/98 [==============================] - ETA: 0s - loss: 0.5240 - acc: 0.7212\n",
            "Epoch 6: saving model to ./save_mode/Bidrect_rnn.ckpt\n",
            "98/98 [==============================] - 38s 391ms/step - loss: 0.5240 - acc: 0.7212 - val_loss: 0.8033 - val_acc: 0.6026\n",
            "Epoch 7/10\n",
            "98/98 [==============================] - ETA: 0s - loss: 0.4922 - acc: 0.7459\n",
            "Epoch 7: saving model to ./save_mode/Bidrect_rnn.ckpt\n",
            "98/98 [==============================] - 37s 379ms/step - loss: 0.4922 - acc: 0.7459 - val_loss: 0.8095 - val_acc: 0.6448\n",
            "Epoch 8/10\n",
            "98/98 [==============================] - ETA: 0s - loss: 0.4313 - acc: 0.7980\n",
            "Epoch 8: saving model to ./save_mode/Bidrect_rnn.ckpt\n",
            "98/98 [==============================] - 37s 377ms/step - loss: 0.4313 - acc: 0.7980 - val_loss: 0.7133 - val_acc: 0.6510\n",
            "Epoch 9/10\n",
            "98/98 [==============================] - ETA: 0s - loss: 0.3942 - acc: 0.8219\n",
            "Epoch 9: saving model to ./save_mode/Bidrect_rnn.ckpt\n",
            "98/98 [==============================] - 36s 370ms/step - loss: 0.3942 - acc: 0.8219 - val_loss: 0.7480 - val_acc: 0.6188\n",
            "Epoch 10/10\n",
            "98/98 [==============================] - ETA: 0s - loss: 0.4711 - acc: 0.7636\n",
            "Epoch 10: saving model to ./save_mode/Bidrect_rnn.ckpt\n",
            "98/98 [==============================] - 34s 352ms/step - loss: 0.4711 - acc: 0.7636 - val_loss: 0.8002 - val_acc: 0.6114\n"
          ]
        }
      ],
      "source": [
        "Bidrect_rnn.compile(loss = 'binary_crossentropy',\n",
        "                         optimizer = 'adam',\n",
        "                         metrics = ['acc'])\n",
        "\n",
        "history_Bidrect_rnn = Bidrect_rnn.fit(train_padded_sequences, train_labels,\n",
        "                          validation_data = (test_padded_sequences, test_labels), epochs = 10,\n",
        "                                      batch_size = 256, callbacks = [cp_callback])"
      ]
    },
    {
      "cell_type": "code",
      "execution_count": null,
      "metadata": {
        "colab": {
          "base_uri": "https://localhost:8080/",
          "height": 472
        },
        "id": "dTDFxPWiPZ-i",
        "outputId": "7a5c9adb-9d7a-40f3-d083-a3b949a2e18d"
      },
      "outputs": [
        {
          "data": {
            "image/png": "[encoded data removed]",
            "text/plain": [
              "<Figure size 640x480 with 1 Axes>"
            ]
          },
          "metadata": {},
          "output_type": "display_data"
        }
      ],
      "source": [
        "plt.plot(history_Bidrect_rnn.history['acc'])\n",
        "plt.plot(history_Bidrect_rnn.history['val_acc'])\n",
        "plt.title('model accuracy')\n",
        "plt.ylabel('accuracy')\n",
        "plt.xlabel('epoch')\n",
        "plt.legend(['train', 'test'], loc = 'upper left')\n",
        "plt.show()"
      ]
    },
    {
      "cell_type": "code",
      "execution_count": null,
      "metadata": {
        "colab": {
          "base_uri": "https://localhost:8080/",
          "height": 472
        },
        "id": "Bz1Ho9YbSU1a",
        "outputId": "d5e08866-1ee3-4851-90f6-89320394845c"
      },
      "outputs": [
        {
          "data": {
            "image/png": "[encoded data removed]",
            "text/plain": [
              "<Figure size 640x480 with 1 Axes>"
            ]
          },
          "metadata": {},
          "output_type": "display_data"
        }
      ],
      "source": [
        "plt.plot(history_Bidrect_rnn.history['loss'])\n",
        "plt.plot(history_Bidrect_rnn.history['val_loss'])\n",
        "plt.title('model loss')\n",
        "plt.ylabel('loss')\n",
        "plt.xlabel('epoch')\n",
        "plt.legend(['train', 'test'], loc = 'upper left')\n",
        "plt.show()"
      ]
    },
    {
      "cell_type": "code",
      "execution_count": null,
      "metadata": {
        "id": "YWXj2AcDSUzG"
      },
      "outputs": [],
      "source": [
        "from tensorflow.keras.models import save_model"
      ]
    },
    {
      "cell_type": "code",
      "execution_count": null,
      "metadata": {
        "colab": {
          "base_uri": "https://localhost:8080/"
        },
        "id": "OCOo0PQoRp9M",
        "outputId": "32169b32-c781-4cc1-f930-983cf2bff2cd"
      },
      "outputs": [
        {
          "name": "stdout",
          "output_type": "stream",
          "text": [
            "Model: \"sequential_3\"\n",
            "_________________________________________________________________\n",
            " Layer (type)                Output Shape              Param #   \n",
            "=================================================================\n",
            " embedding_3 (Embedding)     (None, 100, 300)          3000000   \n",
            "                                                                 \n",
            " lstm (LSTM)                 (None, 256)               570368    \n",
            "                                                                 \n",
            " dense_3 (Dense)             (None, 1)                 257       \n",
            "                                                                 \n",
            "=================================================================\n",
            "Total params: 3,570,625\n",
            "Trainable params: 3,570,625\n",
            "Non-trainable params: 0\n",
            "_________________________________________________________________\n"
          ]
        }
      ],
      "source": [
        "Lstm_model = Sequential([\n",
        "    Embedding(vocab_size, embedding_dim, input_length =max_len),\n",
        "    LSTM(hidden_size),\n",
        "    Dense(1, activation = 'sigmoid')\n",
        "])\n",
        "Lstm_model.summary()"
      ]
    },
    {
      "cell_type": "code",
      "execution_count": null,
      "metadata": {
        "colab": {
          "base_uri": "https://localhost:8080/"
        },
        "id": "dYsOuwl-S2AZ",
        "outputId": "66952da6-18ad-4424-b111-851dfe7605ca"
      },
      "outputs": [
        {
          "name": "stdout",
          "output_type": "stream",
          "text": [
            "Epoch 1/10\n",
            "98/98 [==============================] - 38s 386ms/step - loss: 0.4410 - acc: 0.7728 - val_loss: 0.7187 - val_acc: 0.6724\n",
            "Epoch 2/10\n",
            "98/98 [==============================] - 34s 348ms/step - loss: 0.3338 - acc: 0.8573 - val_loss: 0.7305 - val_acc: 0.7142\n",
            "Epoch 3/10\n",
            "98/98 [==============================] - 39s 395ms/step - loss: 0.3190 - acc: 0.8667 - val_loss: 0.7288 - val_acc: 0.7000\n",
            "Epoch 4/10\n",
            "98/98 [==============================] - 38s 391ms/step - loss: 0.3383 - acc: 0.8584 - val_loss: 0.8193 - val_acc: 0.7137\n",
            "Epoch 5/10\n",
            "98/98 [==============================] - 36s 368ms/step - loss: 0.2935 - acc: 0.8814 - val_loss: 0.7862 - val_acc: 0.6871\n",
            "Epoch 6/10\n",
            "98/98 [==============================] - 37s 371ms/step - loss: 0.2218 - acc: 0.9153 - val_loss: 0.7499 - val_acc: 0.7252\n",
            "Epoch 7/10\n",
            "98/98 [==============================] - 39s 398ms/step - loss: 0.2373 - acc: 0.9090 - val_loss: 0.7596 - val_acc: 0.6394\n",
            "Epoch 8/10\n",
            "98/98 [==============================] - 40s 410ms/step - loss: 0.3735 - acc: 0.8300 - val_loss: 0.7598 - val_acc: 0.6858\n",
            "Epoch 9/10\n",
            "98/98 [==============================] - 44s 453ms/step - loss: 0.2106 - acc: 0.9220 - val_loss: 0.8070 - val_acc: 0.7312\n",
            "Epoch 10/10\n",
            "98/98 [==============================] - 43s 437ms/step - loss: 0.1946 - acc: 0.9280 - val_loss: 0.8420 - val_acc: 0.7362\n"
          ]
        }
      ],
      "source": [
        "Lstm_model.compile(loss = 'binary_crossentropy',\n",
        "                         optimizer = 'adam',\n",
        "                         metrics = ['acc'])\n",
        "\n",
        "save_model(Lstm_model, './save_mode/Lstm_model.h5')\n",
        "history_Lstm_model = Bidrect_rnn.fit(train_padded_sequences, train_labels,\n",
        "                          validation_data = (test_padded_sequences, test_labels), epochs = 10, batch_size = 256)"
      ]
    },
    {
      "cell_type": "code",
      "execution_count": null,
      "metadata": {
        "colab": {
          "base_uri": "https://localhost:8080/",
          "height": 472
        },
        "id": "jS9sMuArTZD0",
        "outputId": "ab7db6ca-8ec6-40d5-dfe0-6716e61d2668"
      },
      "outputs": [
        {
          "data": {
            "image/png": "[encoded data removed]",
            "text/plain": [
              "<Figure size 640x480 with 1 Axes>"
            ]
          },
          "metadata": {},
          "output_type": "display_data"
        }
      ],
      "source": [
        "plt.plot(history_Lstm_model.history['acc'])\n",
        "plt.plot(history_Lstm_model.history['val_acc'])\n",
        "plt.title('model accuracy')\n",
        "plt.ylabel('accuracy')\n",
        "plt.xlabel('epoch')\n",
        "plt.legend(['train', 'test'], loc = 'upper left')\n",
        "plt.show()"
      ]
    },
    {
      "cell_type": "code",
      "execution_count": null,
      "metadata": {
        "colab": {
          "base_uri": "https://localhost:8080/",
          "height": 472
        },
        "id": "gqj31iYiVPZp",
        "outputId": "2da30856-4011-470b-cd70-3319c9c10cc6"
      },
      "outputs": [
        {
          "data": {
            "image/png": "[encoded data removed]",
            "text/plain": [
              "<Figure size 640x480 with 1 Axes>"
            ]
          },
          "metadata": {},
          "output_type": "display_data"
        }
      ],
      "source": [
        "plt.plot(history_Lstm_model.history['loss'])\n",
        "plt.plot(history_Lstm_model.history['val_loss'])\n",
        "plt.title('model loss')\n",
        "plt.ylabel('loss')\n",
        "plt.xlabel('epoch')\n",
        "plt.legend(['train', 'test'], loc = 'upper left')\n",
        "plt.show()"
      ]
    },
    {
      "cell_type": "code",
      "execution_count": null,
      "metadata": {
        "colab": {
          "base_uri": "https://localhost:8080/"
        },
        "id": "D4OmfyEgVPOj",
        "outputId": "8c387f42-949e-4455-b91c-497e9cf058f9"
      },
      "outputs": [
        {
          "name": "stdout",
          "output_type": "stream",
          "text": [
            "Model: \"sequential_4\"\n",
            "_________________________________________________________________\n",
            " Layer (type)                Output Shape              Param #   \n",
            "=================================================================\n",
            " embedding_4 (Embedding)     (None, 100, 300)          3000000   \n",
            "                                                                 \n",
            " lstm_1 (LSTM)               (None, 100, 256)          570368    \n",
            "                                                                 \n",
            " bidirectional_2 (Bidirectio  (None, 512)              1050624   \n",
            " nal)                                                            \n",
            "                                                                 \n",
            " dense_4 (Dense)             (None, 1)                 513       \n",
            "                                                                 \n",
            "=================================================================\n",
            "Total params: 4,621,505\n",
            "Trainable params: 4,621,505\n",
            "Non-trainable params: 0\n",
            "_________________________________________________________________\n"
          ]
        }
      ],
      "source": [
        "BiLstm_model = Sequential([\n",
        "    Embedding(vocab_size, embedding_dim, input_length =max_len),\n",
        "    LSTM(hidden_size, return_sequences = True),\n",
        "    Bidirectional(LSTM(hidden_size)),\n",
        "    Dense(1, activation = 'sigmoid')\n",
        "])\n",
        "BiLstm_model.summary()"
      ]
    },
    {
      "cell_type": "code",
      "execution_count": null,
      "metadata": {
        "colab": {
          "base_uri": "https://localhost:8080/"
        },
        "id": "83SZ7VceV9hH",
        "outputId": "d425c534-32f8-438e-be99-6b30536c81c2"
      },
      "outputs": [
        {
          "name": "stdout",
          "output_type": "stream",
          "text": [
            "Epoch 1/10\n",
            "98/98 [==============================] - 32s 261ms/step - loss: 0.4881 - acc: 0.7557 - val_loss: 0.4667 - val_acc: 0.8016\n",
            "Epoch 2/10\n",
            "98/98 [==============================] - 23s 240ms/step - loss: 0.3139 - acc: 0.8715 - val_loss: 0.4175 - val_acc: 0.8092\n",
            "Epoch 3/10\n",
            "98/98 [==============================] - 17s 171ms/step - loss: 0.2455 - acc: 0.9062 - val_loss: 0.4761 - val_acc: 0.7975\n",
            "Epoch 4/10\n",
            "98/98 [==============================] - 18s 181ms/step - loss: 0.1883 - acc: 0.9298 - val_loss: 0.5738 - val_acc: 0.7931\n",
            "Epoch 5/10\n",
            "98/98 [==============================] - 15s 155ms/step - loss: 0.1187 - acc: 0.9582 - val_loss: 0.7233 - val_acc: 0.7866\n",
            "Epoch 6/10\n",
            "98/98 [==============================] - 17s 172ms/step - loss: 0.0794 - acc: 0.9725 - val_loss: 0.7619 - val_acc: 0.7805\n",
            "Epoch 7/10\n",
            "98/98 [==============================] - 14s 146ms/step - loss: 0.0671 - acc: 0.9759 - val_loss: 0.7671 - val_acc: 0.7674\n",
            "Epoch 8/10\n",
            "98/98 [==============================] - 17s 171ms/step - loss: 0.0595 - acc: 0.9785 - val_loss: 0.9815 - val_acc: 0.7724\n",
            "Epoch 9/10\n",
            "98/98 [==============================] - 14s 139ms/step - loss: 0.0394 - acc: 0.9871 - val_loss: 1.0295 - val_acc: 0.7773\n",
            "Epoch 10/10\n",
            "98/98 [==============================] - 16s 165ms/step - loss: 0.0268 - acc: 0.9910 - val_loss: 1.2008 - val_acc: 0.7789\n"
          ]
        }
      ],
      "source": [
        "BiLstm_model.compile(loss = 'binary_crossentropy',\n",
        "                         optimizer = 'adam',\n",
        "                         metrics = ['acc'])\n",
        "\n",
        "save_model(BiLstm_model, './save_mode/BiLstm_model.h5')\n",
        "history_BiLstm_model = BiLstm_model.fit(train_padded_sequences, train_labels,\n",
        "                          validation_data = (test_padded_sequences, test_labels), epochs = 10, batch_size = 256)"
      ]
    },
    {
      "cell_type": "code",
      "execution_count": null,
      "metadata": {
        "colab": {
          "base_uri": "https://localhost:8080/",
          "height": 472
        },
        "id": "5YTQLHTCWaNE",
        "outputId": "c5244d66-7ac5-4b1c-cf73-aec98d6553e5"
      },
      "outputs": [
        {
          "data": {
            "image/png": "[encoded data removed]",
            "text/plain": [
              "<Figure size 640x480 with 1 Axes>"
            ]
          },
          "metadata": {},
          "output_type": "display_data"
        }
      ],
      "source": [
        "plt.plot(history_BiLstm_model.history['acc'])\n",
        "plt.plot(history_BiLstm_model.history['val_acc'])\n",
        "plt.title('model accuracy')\n",
        "plt.ylabel('accuracy')\n",
        "plt.xlabel('epoch')\n",
        "plt.legend(['train', 'test'], loc = 'upper left')\n",
        "plt.show()"
      ]
    },
    {
      "cell_type": "code",
      "execution_count": null,
      "metadata": {
        "colab": {
          "base_uri": "https://localhost:8080/",
          "height": 472
        },
        "id": "2uV01-XTgd-m",
        "outputId": "a998699e-8193-4cb9-f56a-b5516d100d70"
      },
      "outputs": [
        {
          "data": {
            "image/png": "[encoded data removed]",
            "text/plain": [
              "<Figure size 640x480 with 1 Axes>"
            ]
          },
          "metadata": {},
          "output_type": "display_data"
        }
      ],
      "source": [
        "plt.plot(history_BiLstm_model.history['loss'])\n",
        "plt.plot(history_BiLstm_model.history['val_loss'])\n",
        "plt.title('model loss')\n",
        "plt.ylabel('loss')\n",
        "plt.xlabel('epoch')\n",
        "plt.legend(['train', 'test'], loc = 'upper left')\n",
        "plt.show()"
      ]
    },
    {
      "cell_type": "code",
      "execution_count": null,
      "metadata": {
        "colab": {
          "base_uri": "https://localhost:8080/"
        },
        "id": "O_n_iM9jYG9U",
        "outputId": "1c5e2448-6c55-480e-d741-a1038ea4c17c"
      },
      "outputs": [
        {
          "name": "stdout",
          "output_type": "stream",
          "text": [
            "Model: \"sequential_6\"\n",
            "_________________________________________________________________\n",
            " Layer (type)                Output Shape              Param #   \n",
            "=================================================================\n",
            " embedding_6 (Embedding)     (None, 100, 300)          3000000   \n",
            "                                                                 \n",
            " gru_1 (GRU)                 (None, 256)               428544    \n",
            "                                                                 \n",
            " dense_6 (Dense)             (None, 1)                 257       \n",
            "                                                                 \n",
            "=================================================================\n",
            "Total params: 3,428,801\n",
            "Trainable params: 3,428,801\n",
            "Non-trainable params: 0\n",
            "_________________________________________________________________\n"
          ]
        }
      ],
      "source": [
        "GRU_model = Sequential([\n",
        "    Embedding(vocab_size, embedding_dim, input_length =max_len),\n",
        "    GRU(hidden_size),\n",
        "    Dense(1, activation = 'sigmoid')\n",
        "])\n",
        "\n",
        "GRU_model.summary()"
      ]
    },
    {
      "cell_type": "code",
      "execution_count": null,
      "metadata": {
        "colab": {
          "base_uri": "https://localhost:8080/"
        },
        "id": "wjDjaHd3YZyz",
        "outputId": "12edf4bf-4f9c-44b1-ae00-00cf47d7468f"
      },
      "outputs": [
        {
          "name": "stdout",
          "output_type": "stream",
          "text": [
            "Epoch 1/10\n",
            "98/98 [==============================] - 21s 187ms/step - loss: 0.6296 - acc: 0.6180 - val_loss: 0.4811 - val_acc: 0.7821\n",
            "Epoch 2/10\n",
            "98/98 [==============================] - 13s 127ms/step - loss: 0.3602 - acc: 0.8482 - val_loss: 0.4381 - val_acc: 0.8114\n",
            "Epoch 3/10\n",
            "98/98 [==============================] - 10s 99ms/step - loss: 0.2689 - acc: 0.8958 - val_loss: 0.4553 - val_acc: 0.7999\n",
            "Epoch 4/10\n",
            "98/98 [==============================] - 8s 84ms/step - loss: 0.1997 - acc: 0.9269 - val_loss: 0.4974 - val_acc: 0.7966\n",
            "Epoch 5/10\n",
            "98/98 [==============================] - 7s 67ms/step - loss: 0.1461 - acc: 0.9502 - val_loss: 0.6656 - val_acc: 0.7983\n",
            "Epoch 6/10\n",
            "98/98 [==============================] - 8s 79ms/step - loss: 0.0957 - acc: 0.9688 - val_loss: 0.7317 - val_acc: 0.7824\n",
            "Epoch 7/10\n",
            "98/98 [==============================] - 6s 57ms/step - loss: 0.0655 - acc: 0.9786 - val_loss: 0.9038 - val_acc: 0.7881\n",
            "Epoch 8/10\n",
            "98/98 [==============================] - 6s 57ms/step - loss: 0.0404 - acc: 0.9869 - val_loss: 1.0673 - val_acc: 0.7825\n",
            "Epoch 9/10\n",
            "98/98 [==============================] - 6s 62ms/step - loss: 0.0249 - acc: 0.9922 - val_loss: 1.1362 - val_acc: 0.7742\n",
            "Epoch 10/10\n",
            "98/98 [==============================] - 6s 57ms/step - loss: 0.0301 - acc: 0.9896 - val_loss: 1.1439 - val_acc: 0.7836\n"
          ]
        }
      ],
      "source": [
        "GRU_model.compile(loss = 'binary_crossentropy',\n",
        "                         optimizer = 'adam',\n",
        "                         metrics = ['acc'])\n",
        "\n",
        "save_model(GRU_model, './save_mode/GRU_model.h5')\n",
        "history_GRU_model = GRU_model.fit(train_padded_sequences, train_labels,\n",
        "                          validation_data = (test_padded_sequences, test_labels), epochs = 10, batch_size = 256)"
      ]
    },
    {
      "cell_type": "code",
      "execution_count": null,
      "metadata": {
        "colab": {
          "base_uri": "https://localhost:8080/",
          "height": 472
        },
        "id": "6WVDadUfYv7D",
        "outputId": "18a92fb0-b616-4a95-b03d-cdf60baec519"
      },
      "outputs": [
        {
          "data": {
            "image/png": "[encoded data removed]",
            "text/plain": [
              "<Figure size 640x480 with 1 Axes>"
            ]
          },
          "metadata": {},
          "output_type": "display_data"
        }
      ],
      "source": [
        "plt.plot(history_GRU_model.history['acc'])\n",
        "plt.plot(history_GRU_model.history['val_acc'])\n",
        "plt.title('model accuracy')\n",
        "plt.ylabel('accuracy')\n",
        "plt.xlabel('epoch')\n",
        "plt.legend(['train', 'test'], loc = 'upper left')\n",
        "plt.show()"
      ]
    },
    {
      "cell_type": "code",
      "execution_count": null,
      "metadata": {
        "colab": {
          "base_uri": "https://localhost:8080/",
          "height": 472
        },
        "id": "gjhKRJcFglQm",
        "outputId": "6b6747e0-6ce7-4a4a-908c-5164d5036276"
      },
      "outputs": [
        {
          "data": {
            "image/png": "[encoded data removed]",
            "text/plain": [
              "<Figure size 640x480 with 1 Axes>"
            ]
          },
          "metadata": {},
          "output_type": "display_data"
        }
      ],
      "source": [
        "plt.plot(history_GRU_model.history['loss'])\n",
        "plt.plot(history_GRU_model.history['val_loss'])\n",
        "plt.title('model loss')\n",
        "plt.ylabel('loss')\n",
        "plt.xlabel('epoch')\n",
        "plt.legend(['train', 'test'], loc = 'upper left')\n",
        "plt.show()"
      ]
    },
    {
      "cell_type": "code",
      "execution_count": null,
      "metadata": {
        "colab": {
          "base_uri": "https://localhost:8080/"
        },
        "id": "OTeRpfAjaC6E",
        "outputId": "e624df8c-73b5-40e7-c044-e643e8fb2b86"
      },
      "outputs": [
        {
          "name": "stdout",
          "output_type": "stream",
          "text": [
            "Model: \"sequential_7\"\n",
            "_________________________________________________________________\n",
            " Layer (type)                Output Shape              Param #   \n",
            "=================================================================\n",
            " embedding_7 (Embedding)     (None, 100, 300)          3000000   \n",
            "                                                                 \n",
            " gru_2 (GRU)                 (None, 100, 256)          428544    \n",
            "                                                                 \n",
            " bidirectional_3 (Bidirectio  (None, 512)              789504    \n",
            " nal)                                                            \n",
            "                                                                 \n",
            " dense_7 (Dense)             (None, 1)                 513       \n",
            "                                                                 \n",
            "=================================================================\n",
            "Total params: 4,218,561\n",
            "Trainable params: 4,218,561\n",
            "Non-trainable params: 0\n",
            "_________________________________________________________________\n"
          ]
        }
      ],
      "source": [
        "BiGRU_model = Sequential([\n",
        "    Embedding(vocab_size, embedding_dim, input_length =max_len),\n",
        "    GRU(hidden_size, return_sequences = True),\n",
        "    Bidirectional(GRU(hidden_size)),\n",
        "    Dense(1, activation = 'sigmoid')\n",
        "])\n",
        "BiGRU_model.summary()"
      ]
    },
    {
      "cell_type": "code",
      "execution_count": null,
      "metadata": {
        "colab": {
          "base_uri": "https://localhost:8080/"
        },
        "id": "m2s3Gzb0aO2o",
        "outputId": "98fb8bc8-342c-4388-d7d0-18663abf1a07"
      },
      "outputs": [
        {
          "name": "stdout",
          "output_type": "stream",
          "text": [
            "Epoch 1/10\n",
            "98/98 [==============================] - 30s 246ms/step - loss: 0.5605 - acc: 0.6964 - val_loss: 0.4316 - val_acc: 0.8008\n",
            "Epoch 2/10\n",
            "98/98 [==============================] - 18s 186ms/step - loss: 0.3319 - acc: 0.8612 - val_loss: 0.4309 - val_acc: 0.8082\n",
            "Epoch 3/10\n",
            "98/98 [==============================] - 18s 186ms/step - loss: 0.2456 - acc: 0.9037 - val_loss: 0.4864 - val_acc: 0.7970\n",
            "Epoch 4/10\n",
            "98/98 [==============================] - 17s 170ms/step - loss: 0.1807 - acc: 0.9325 - val_loss: 0.5705 - val_acc: 0.7904\n",
            "Epoch 5/10\n",
            "98/98 [==============================] - 15s 156ms/step - loss: 0.1249 - acc: 0.9557 - val_loss: 0.7024 - val_acc: 0.7834\n",
            "Epoch 6/10\n",
            "98/98 [==============================] - 13s 133ms/step - loss: 0.0753 - acc: 0.9728 - val_loss: 0.8642 - val_acc: 0.7801\n",
            "Epoch 7/10\n",
            "98/98 [==============================] - 14s 148ms/step - loss: 0.0623 - acc: 0.9772 - val_loss: 1.0190 - val_acc: 0.7767\n",
            "Epoch 8/10\n",
            "98/98 [==============================] - 14s 144ms/step - loss: 0.0367 - acc: 0.9872 - val_loss: 1.2002 - val_acc: 0.7790\n",
            "Epoch 9/10\n",
            "98/98 [==============================] - 12s 121ms/step - loss: 0.0242 - acc: 0.9916 - val_loss: 1.3889 - val_acc: 0.7757\n",
            "Epoch 10/10\n",
            "98/98 [==============================] - 12s 118ms/step - loss: 0.0271 - acc: 0.9903 - val_loss: 1.3510 - val_acc: 0.7808\n"
          ]
        }
      ],
      "source": [
        "BiGRU_model.compile(loss = 'binary_crossentropy',\n",
        "                         optimizer = 'adam',\n",
        "                         metrics = ['acc'])\n",
        "\n",
        "save_model(BiGRU_model, './save_mode/BiGRU_model.h5')\n",
        "history_BiGRU_model = BiGRU_model.fit(train_padded_sequences, train_labels,\n",
        "                          validation_data = (test_padded_sequences, test_labels), epochs = 10, batch_size = 256)"
      ]
    },
    {
      "cell_type": "code",
      "execution_count": null,
      "metadata": {
        "colab": {
          "base_uri": "https://localhost:8080/",
          "height": 472
        },
        "id": "p5J0QdGVa0ri",
        "outputId": "64f9d20a-51cb-4444-ad23-5ebd5ceac797"
      },
      "outputs": [
        {
          "data": {
            "image/png": "[encoded data removed]",
            "text/plain": [
              "<Figure size 640x480 with 1 Axes>"
            ]
          },
          "metadata": {},
          "output_type": "display_data"
        }
      ],
      "source": [
        "plt.plot(history_BiGRU_model.history['acc'])\n",
        "plt.plot(history_BiGRU_model.history['val_acc'])\n",
        "plt.title('model accuracy')\n",
        "plt.ylabel('accuracy')\n",
        "plt.xlabel('epoch')\n",
        "plt.legend(['train', 'test'], loc = 'upper left')\n",
        "plt.show()"
      ]
    },
    {
      "cell_type": "code",
      "execution_count": null,
      "metadata": {
        "colab": {
          "base_uri": "https://localhost:8080/",
          "height": 472
        },
        "id": "d1fUeUZOgqgB",
        "outputId": "53857f94-f311-4965-b7e0-77cc579a52cb"
      },
      "outputs": [
        {
          "data": {
            "image/png": "[encoded data removed]",
            "text/plain": [
              "<Figure size 640x480 with 1 Axes>"
            ]
          },
          "metadata": {},
          "output_type": "display_data"
        }
      ],
      "source": [
        "plt.plot(history_BiGRU_model.history['loss'])\n",
        "plt.plot(history_BiGRU_model.history['val_loss'])\n",
        "plt.title('model loss')\n",
        "plt.ylabel('loss')\n",
        "plt.xlabel('epoch')\n",
        "plt.legend(['train', 'test'], loc = 'upper left')\n",
        "plt.show()"
      ]
    },
    {
      "cell_type": "code",
      "execution_count": null,
      "metadata": {
        "colab": {
          "base_uri": "https://localhost:8080/"
        },
        "id": "T0f79MHTb2Re",
        "outputId": "0d9f3c14-098b-4527-f98f-aeaeffedf310"
      },
      "outputs": [
        {
          "name": "stdout",
          "output_type": "stream",
          "text": [
            "Model: \"sequential_9\"\n",
            "_________________________________________________________________\n",
            " Layer (type)                Output Shape              Param #   \n",
            "=================================================================\n",
            " embedding_9 (Embedding)     (None, 100, 300)          3000000   \n",
            "                                                                 \n",
            " lstm_5 (LSTM)               (None, 100, 256)          570368    \n",
            "                                                                 \n",
            " batch_normalization_2 (Batc  (None, 100, 256)         1024      \n",
            " hNormalization)                                                 \n",
            "                                                                 \n",
            " bidirectional_5 (Bidirectio  (None, 512)              1050624   \n",
            " nal)                                                            \n",
            "                                                                 \n",
            " batch_normalization_3 (Batc  (None, 512)              2048      \n",
            " hNormalization)                                                 \n",
            "                                                                 \n",
            " dense_9 (Dense)             (None, 1)                 513       \n",
            "                                                                 \n",
            "=================================================================\n",
            "Total params: 4,624,577\n",
            "Trainable params: 4,623,041\n",
            "Non-trainable params: 1,536\n",
            "_________________________________________________________________\n"
          ]
        }
      ],
      "source": [
        "BiLstm_customer = Sequential([\n",
        "    Embedding(vocab_size, embedding_dim, input_length =max_len),\n",
        "    LSTM(hidden_size, return_sequences = True),\n",
        "    BatchNormalization(),\n",
        "    Bidirectional(LSTM(hidden_size)),\n",
        "    BatchNormalization(),\n",
        "    Dense(1, activation = 'sigmoid')\n",
        "])\n",
        "BiLstm_customer.summary()"
      ]
    },
    {
      "cell_type": "code",
      "execution_count": null,
      "metadata": {
        "colab": {
          "base_uri": "https://localhost:8080/"
        },
        "id": "w6UeASt8cgSr",
        "outputId": "7c9bb2cf-384a-40aa-a444-7d60304c4377"
      },
      "outputs": [
        {
          "name": "stdout",
          "output_type": "stream",
          "text": [
            "Epoch 1/10\n",
            "98/98 [==============================] - 33s 242ms/step - loss: 0.5316 - acc: 0.7490 - val_loss: 0.6135 - val_acc: 0.6921\n",
            "Epoch 2/10\n",
            "98/98 [==============================] - 19s 198ms/step - loss: 0.2803 - acc: 0.8839 - val_loss: 0.6324 - val_acc: 0.6270\n",
            "Epoch 3/10\n",
            "98/98 [==============================] - 18s 189ms/step - loss: 0.1667 - acc: 0.9358 - val_loss: 0.5442 - val_acc: 0.7504\n",
            "Epoch 4/10\n",
            "98/98 [==============================] - 16s 168ms/step - loss: 0.0942 - acc: 0.9654 - val_loss: 0.5870 - val_acc: 0.7770\n",
            "Epoch 5/10\n",
            "98/98 [==============================] - 17s 171ms/step - loss: 0.0598 - acc: 0.9784 - val_loss: 0.8344 - val_acc: 0.7581\n",
            "Epoch 6/10\n",
            "98/98 [==============================] - 17s 177ms/step - loss: 0.0497 - acc: 0.9828 - val_loss: 1.0124 - val_acc: 0.7866\n",
            "Epoch 7/10\n",
            "98/98 [==============================] - 17s 171ms/step - loss: 0.0347 - acc: 0.9883 - val_loss: 1.4444 - val_acc: 0.7680\n",
            "Epoch 8/10\n",
            "98/98 [==============================] - 14s 148ms/step - loss: 0.0288 - acc: 0.9904 - val_loss: 1.1512 - val_acc: 0.7740\n",
            "Epoch 9/10\n",
            "98/98 [==============================] - 15s 151ms/step - loss: 0.0192 - acc: 0.9938 - val_loss: 1.2770 - val_acc: 0.7769\n",
            "Epoch 10/10\n",
            "98/98 [==============================] - 15s 149ms/step - loss: 0.0196 - acc: 0.9935 - val_loss: 1.3319 - val_acc: 0.7831\n"
          ]
        }
      ],
      "source": [
        "BiLstm_customer.compile(loss = 'binary_crossentropy',\n",
        "                         optimizer = 'adam',\n",
        "                         metrics = ['acc'])\n",
        "\n",
        "save_model(BiLstm_customer, './save_mode/BiLstm_customer.h5')\n",
        "history_BiLstm_customer = BiLstm_customer.fit(train_padded_sequences, train_labels,\n",
        "                          validation_data = (test_padded_sequences, test_labels), epochs = 10, batch_size = 256)"
      ]
    },
    {
      "cell_type": "code",
      "execution_count": null,
      "metadata": {
        "colab": {
          "base_uri": "https://localhost:8080/",
          "height": 472
        },
        "id": "5UUcnaTLc_Kf",
        "outputId": "e7b7ca9f-686f-4ccf-ff8b-d84f49e659f3"
      },
      "outputs": [
        {
          "data": {
            "image/png": "[encoded data removed]",
            "text/plain": [
              "<Figure size 640x480 with 1 Axes>"
            ]
          },
          "metadata": {},
          "output_type": "display_data"
        }
      ],
      "source": [
        "plt.plot(history_BiLstm_customer.history['acc'])\n",
        "plt.plot(history_BiLstm_customer.history['val_acc'])\n",
        "plt.title('model accuracy')\n",
        "plt.ylabel('accuracy')\n",
        "plt.xlabel('epoch')\n",
        "plt.legend(['train', 'test'], loc = 'upper left')\n",
        "plt.show()"
      ]
    },
    {
      "cell_type": "code",
      "execution_count": null,
      "metadata": {
        "colab": {
          "base_uri": "https://localhost:8080/",
          "height": 472
        },
        "id": "L08oqWX3d0pT",
        "outputId": "5851aa08-9c1b-42cf-80c6-9a3a67867e3b"
      },
      "outputs": [
        {
          "data": {
            "image/png": "[encoded data removed]",
            "text/plain": [
              "<Figure size 640x480 with 1 Axes>"
            ]
          },
          "metadata": {},
          "output_type": "display_data"
        }
      ],
      "source": [
        "plt.plot(history_BiLstm_customer.history['loss'])\n",
        "plt.plot(history_BiLstm_customer.history['val_loss'])\n",
        "plt.title('model loss')\n",
        "plt.ylabel('loss')\n",
        "plt.xlabel('epoch')\n",
        "plt.legend(['train', 'test'], loc = 'upper left')\n",
        "plt.show()"
      ]
    },
    {
      "cell_type": "code",
      "execution_count": null,
      "metadata": {
        "colab": {
          "base_uri": "https://localhost:8080/",
          "height": 472
        },
        "id": "g-i1Ro5Md7dB",
        "outputId": "33469e20-fdfd-46ef-f212-25773196dac6"
      },
      "outputs": [
        {
          "data": {
            "image/png": "[encoded data removed]",
            "text/plain": [
              "<Figure size 640x480 with 1 Axes>"
            ]
          },
          "metadata": {},
          "output_type": "display_data"
        }
      ],
      "source": [
        "plt.plot(history_simple_rnn.history['accuracy'])\n",
        "\n",
        "plt.plot(history_BiLstm_model.history['acc'])\n",
        "\n",
        "plt.plot(history_GRU_model.history['acc'])\n",
        "plt.plot(history_BiLstm_customer.history['acc'])\n",
        "plt.title('model accuracy')\n",
        "plt.xlabel('epoch')\n",
        "plt.ylabel('accuracy')\n",
        "plt.legend(['RNN','LSTM','GRU', \"CustomeLSTM\"], loc = 'lower right')\n",
        "plt.show()"
      ]
    },
    {
      "cell_type": "code",
      "execution_count": null,
      "metadata": {
        "colab": {
          "base_uri": "https://localhost:8080/",
          "height": 472
        },
        "id": "D04vlKDvesAV",
        "outputId": "eaf57aef-4c86-4852-edfd-764df5b96118"
      },
      "outputs": [
        {
          "data": {
            "image/png": "[encoded data removed]",
            "text/plain": [
              "<Figure size 640x480 with 1 Axes>"
            ]
          },
          "metadata": {},
          "output_type": "display_data"
        }
      ],
      "source": [
        "plt.plot(history_BiLstm_model.history['acc'])\n",
        "\n",
        "plt.plot(history_Lstm_model.history['acc'])\n",
        "\n",
        "plt.plot(history_BiGRU_model.history['acc'])\n",
        "plt.plot(history_BiLstm_customer.history['acc'])\n",
        "\n",
        "plt.title('model accuracy')\n",
        "plt.xlabel('epoch')\n",
        "plt.ylabel('accuracy')\n",
        "plt.legend(['BIRNN','BILSTM','BIGRU',\"CustomeLSTM\"], loc = 'lower right')\n",
        "plt.show()"
      ]
    },
    {
      "cell_type": "code",
      "execution_count": null,
      "metadata": {
        "colab": {
          "base_uri": "https://localhost:8080/",
          "height": 472
        },
        "id": "3XmTBfyve-iS",
        "outputId": "be80e59a-20c8-4a21-8b31-cb7480e87b38"
      },
      "outputs": [
        {
          "data": {
            "image/png": "[encoded data removed]",
            "text/plain": [
              "<Figure size 640x480 with 1 Axes>"
            ]
          },
          "metadata": {},
          "output_type": "display_data"
        }
      ],
      "source": [
        "plt.plot(history_simple_rnn.history['loss'])\n",
        "\n",
        "plt.plot(history_BiLstm_model.history['loss'])\n",
        "\n",
        "plt.plot(history_GRU_model.history['loss'])\n",
        "plt.plot(history_BiLstm_customer.history['loss'])\n",
        "plt.title('model loss')\n",
        "plt.xlabel('epoch')\n",
        "plt.ylabel('loss')\n",
        "plt.legend(['RNN','LSTM','GRU',\"CustomeLSTM\"], loc = 'lower right')\n",
        "plt.show()"
      ]
    },
    {
      "cell_type": "code",
      "execution_count": null,
      "metadata": {
        "colab": {
          "base_uri": "https://localhost:8080/",
          "height": 472
        },
        "id": "gY1kxQEdfSWR",
        "outputId": "83715b90-12c1-4774-b61b-e5723cfbc84a"
      },
      "outputs": [
        {
          "data": {
            "image/png": "[encoded data removed]",
            "text/plain": [
              "<Figure size 640x480 with 1 Axes>"
            ]
          },
          "metadata": {},
          "output_type": "display_data"
        }
      ],
      "source": [
        "plt.plot(history_BiLstm_model.history['loss'])\n",
        "\n",
        "plt.plot(history_Lstm_model.history['loss'])\n",
        "\n",
        "plt.plot(history_BiGRU_model.history['loss'])\n",
        "plt.plot(history_BiLstm_customer.history['loss'])\n",
        "plt.title('model loss')\n",
        "plt.xlabel('epoch')\n",
        "plt.ylabel('loss')\n",
        "plt.legend(['BIRNN','BILSTM','BIGRU',\"CustomeLSTM\"], loc = 'lower right')\n",
        "plt.show()"
      ]
    },
    {
      "cell_type": "code",
      "execution_count": null,
      "metadata": {
        "id": "f1etzWnrfdXx"
      },
      "outputs": [],
      "source": []
    }
  ],
  "metadata": {
    "accelerator": "GPU",
    "colab": {
      "gpuType": "T4",
      "provenance": []
    },
    "kernelspec": {
      "display_name": "Python 3",
      "name": "python3"
    },
    "language_info": {
      "name": "python"
    },
    "widgets": {
      "application/vnd.jupyter.widget-state+json": {
        "008535f09f7544c298c66c7fc398ecc7": {
          "model_module": "@jupyter-widgets/controls",
          "model_module_version": "1.5.0",
          "model_name": "DescriptionStyleModel",
          "state": {
            "_model_module": "@jupyter-widgets/controls",
            "_model_module_version": "1.5.0",
            "_model_name": "DescriptionStyleModel",
            "_view_count": null,
            "_view_module": "@jupyter-widgets/base",
            "_view_module_version": "1.2.0",
            "_view_name": "StyleView",
            "description_width": ""
          }
        },
        "02172fdb87fc47ca842b20a9dc23f6e2": {
          "model_module": "@jupyter-widgets/base",
          "model_module_version": "1.2.0",
          "model_name": "LayoutModel",
          "state": {
            "_model_module": "@jupyter-widgets/base",
            "_model_module_version": "1.2.0",
            "_model_name": "LayoutModel",
            "_view_count": null,
            "_view_module": "@jupyter-widgets/base",
            "_view_module_version": "1.2.0",
            "_view_name": "LayoutView",
            "align_content": null,
            "align_items": null,
            "align_self": null,
            "border": null,
            "bottom": null,
            "display": null,
            "flex": null,
            "flex_flow": null,
            "grid_area": null,
            "grid_auto_columns": null,
            "grid_auto_flow": null,
            "grid_auto_rows": null,
            "grid_column": null,
            "grid_gap": null,
            "grid_row": null,
            "grid_template_areas": null,
            "grid_template_columns": null,
            "grid_template_rows": null,
            "height": null,
            "justify_content": null,
            "justify_items": null,
            "left": null,
            "margin": null,
            "max_height": null,
            "max_width": null,
            "min_height": null,
            "min_width": null,
            "object_fit": null,
            "object_position": null,
            "order": null,
            "overflow": null,
            "overflow_x": null,
            "overflow_y": null,
            "padding": null,
            "right": null,
            "top": null,
            "visibility": null,
            "width": null
          }
        },
        "096cc8c5a31e413ebdf4f4875119518d": {
          "model_module": "@jupyter-widgets/controls",
          "model_module_version": "1.5.0",
          "model_name": "HTMLModel",
          "state": {
            "_dom_classes": [],
            "_model_module": "@jupyter-widgets/controls",
            "_model_module_version": "1.5.0",
            "_model_name": "HTMLModel",
            "_view_count": null,
            "_view_module": "@jupyter-widgets/controls",
            "_view_module_version": "1.5.0",
            "_view_name": "HTMLView",
            "description": "",
            "description_tooltip": null,
            "layout": "IPY_MODEL_dce558bd10e642cb8b71083a671b03de",
            "placeholder": "​",
            "style": "IPY_MODEL_ccb7dee81c1248d2875e2171e9924508",
            "value": " 24524/25000 [00:12&lt;00:00, 5268.94 examples/s]"
          }
        },
        "0d4b4a04b9a241368bde5c32be589e29": {
          "model_module": "@jupyter-widgets/controls",
          "model_module_version": "1.5.0",
          "model_name": "HTMLModel",
          "state": {
            "_dom_classes": [],
            "_model_module": "@jupyter-widgets/controls",
            "_model_module_version": "1.5.0",
            "_model_name": "HTMLModel",
            "_view_count": null,
            "_view_module": "@jupyter-widgets/controls",
            "_view_module_version": "1.5.0",
            "_view_name": "HTMLView",
            "description": "",
            "description_tooltip": null,
            "layout": "IPY_MODEL_f9e5dcbcb9a1496e9b9a95834dcbe9c7",
            "placeholder": "​",
            "style": "IPY_MODEL_ea78e5d8a3fc4156909069a8faa1907d",
            "value": " 3/3 [00:41&lt;00:00, 13.69s/ splits]"
          }
        },
        "0efd2ffb28fd438cb1df6c929e3e174e": {
          "model_module": "@jupyter-widgets/base",
          "model_module_version": "1.2.0",
          "model_name": "LayoutModel",
          "state": {
            "_model_module": "@jupyter-widgets/base",
            "_model_module_version": "1.2.0",
            "_model_name": "LayoutModel",
            "_view_count": null,
            "_view_module": "@jupyter-widgets/base",
            "_view_module_version": "1.2.0",
            "_view_name": "LayoutView",
            "align_content": null,
            "align_items": null,
            "align_self": null,
            "border": null,
            "bottom": null,
            "display": null,
            "flex": null,
            "flex_flow": null,
            "grid_area": null,
            "grid_auto_columns": null,
            "grid_auto_flow": null,
            "grid_auto_rows": null,
            "grid_column": null,
            "grid_gap": null,
            "grid_row": null,
            "grid_template_areas": null,
            "grid_template_columns": null,
            "grid_template_rows": null,
            "height": null,
            "justify_content": null,
            "justify_items": null,
            "left": null,
            "margin": null,
            "max_height": null,
            "max_width": null,
            "min_height": null,
            "min_width": null,
            "object_fit": null,
            "object_position": null,
            "order": null,
            "overflow": null,
            "overflow_x": null,
            "overflow_y": null,
            "padding": null,
            "right": null,
            "top": null,
            "visibility": "hidden",
            "width": null
          }
        },
        "128269feb396408b8bd2eb55a56ad2a8": {
          "model_module": "@jupyter-widgets/base",
          "model_module_version": "1.2.0",
          "model_name": "LayoutModel",
          "state": {
            "_model_module": "@jupyter-widgets/base",
            "_model_module_version": "1.2.0",
            "_model_name": "LayoutModel",
            "_view_count": null,
            "_view_module": "@jupyter-widgets/base",
            "_view_module_version": "1.2.0",
            "_view_name": "LayoutView",
            "align_content": null,
            "align_items": null,
            "align_self": null,
            "border": null,
            "bottom": null,
            "display": null,
            "flex": null,
            "flex_flow": null,
            "grid_area": null,
            "grid_auto_columns": null,
            "grid_auto_flow": null,
            "grid_auto_rows": null,
            "grid_column": null,
            "grid_gap": null,
            "grid_row": null,
            "grid_template_areas": null,
            "grid_template_columns": null,
            "grid_template_rows": null,
            "height": null,
            "justify_content": null,
            "justify_items": null,
            "left": null,
            "margin": null,
            "max_height": null,
            "max_width": null,
            "min_height": null,
            "min_width": null,
            "object_fit": null,
            "object_position": null,
            "order": null,
            "overflow": null,
            "overflow_x": null,
            "overflow_y": null,
            "padding": null,
            "right": null,
            "top": null,
            "visibility": null,
            "width": null
          }
        },
        "1342077f28eb4cf5b86bb9e78175b228": {
          "model_module": "@jupyter-widgets/controls",
          "model_module_version": "1.5.0",
          "model_name": "ProgressStyleModel",
          "state": {
            "_model_module": "@jupyter-widgets/controls",
            "_model_module_version": "1.5.0",
            "_model_name": "ProgressStyleModel",
            "_view_count": null,
            "_view_module": "@jupyter-widgets/base",
            "_view_module_version": "1.2.0",
            "_view_name": "StyleView",
            "bar_color": null,
            "description_width": ""
          }
        },
        "16eed15751984268ad8130933663e130": {
          "model_module": "@jupyter-widgets/controls",
          "model_module_version": "1.5.0",
          "model_name": "DescriptionStyleModel",
          "state": {
            "_model_module": "@jupyter-widgets/controls",
            "_model_module_version": "1.5.0",
            "_model_name": "DescriptionStyleModel",
            "_view_count": null,
            "_view_module": "@jupyter-widgets/base",
            "_view_module_version": "1.2.0",
            "_view_name": "StyleView",
            "description_width": ""
          }
        },
        "1769966d020f4badaf2bb93987f49b2f": {
          "model_module": "@jupyter-widgets/base",
          "model_module_version": "1.2.0",
          "model_name": "LayoutModel",
          "state": {
            "_model_module": "@jupyter-widgets/base",
            "_model_module_version": "1.2.0",
            "_model_name": "LayoutModel",
            "_view_count": null,
            "_view_module": "@jupyter-widgets/base",
            "_view_module_version": "1.2.0",
            "_view_name": "LayoutView",
            "align_content": null,
            "align_items": null,
            "align_self": null,
            "border": null,
            "bottom": null,
            "display": null,
            "flex": null,
            "flex_flow": null,
            "grid_area": null,
            "grid_auto_columns": null,
            "grid_auto_flow": null,
            "grid_auto_rows": null,
            "grid_column": null,
            "grid_gap": null,
            "grid_row": null,
            "grid_template_areas": null,
            "grid_template_columns": null,
            "grid_template_rows": null,
            "height": null,
            "justify_content": null,
            "justify_items": null,
            "left": null,
            "margin": null,
            "max_height": null,
            "max_width": null,
            "min_height": null,
            "min_width": null,
            "object_fit": null,
            "object_position": null,
            "order": null,
            "overflow": null,
            "overflow_x": null,
            "overflow_y": null,
            "padding": null,
            "right": null,
            "top": null,
            "visibility": null,
            "width": null
          }
        },
        "1911d2ffba79456f804989b2d2b8314c": {
          "model_module": "@jupyter-widgets/controls",
          "model_module_version": "1.5.0",
          "model_name": "ProgressStyleModel",
          "state": {
            "_model_module": "@jupyter-widgets/controls",
            "_model_module_version": "1.5.0",
            "_model_name": "ProgressStyleModel",
            "_view_count": null,
            "_view_module": "@jupyter-widgets/base",
            "_view_module_version": "1.2.0",
            "_view_name": "StyleView",
            "bar_color": null,
            "description_width": ""
          }
        },
        "1917881118b549d4bb6d80ceefdd2ce7": {
          "model_module": "@jupyter-widgets/controls",
          "model_module_version": "1.5.0",
          "model_name": "HTMLModel",
          "state": {
            "_dom_classes": [],
            "_model_module": "@jupyter-widgets/controls",
            "_model_module_version": "1.5.0",
            "_model_name": "HTMLModel",
            "_view_count": null,
            "_view_module": "@jupyter-widgets/controls",
            "_view_module_version": "1.5.0",
            "_view_name": "HTMLView",
            "description": "",
            "description_tooltip": null,
            "layout": "IPY_MODEL_fb04a7add0564b96ac1ab6c46b22b2f9",
            "placeholder": "​",
            "style": "IPY_MODEL_ff86487cd44e4b669a1db9d4176f053c",
            "value": " 8766/25000 [00:00&lt;00:00, 87647.34 examples/s]"
          }
        },
        "1b6f72c5fa3644f580d771dd926b392f": {
          "model_module": "@jupyter-widgets/controls",
          "model_module_version": "1.5.0",
          "model_name": "DescriptionStyleModel",
          "state": {
            "_model_module": "@jupyter-widgets/controls",
            "_model_module_version": "1.5.0",
            "_model_name": "DescriptionStyleModel",
            "_view_count": null,
            "_view_module": "@jupyter-widgets/base",
            "_view_module_version": "1.2.0",
            "_view_name": "StyleView",
            "description_width": ""
          }
        },
        "25706a087ebf4a19a0ef807b78ec8c91": {
          "model_module": "@jupyter-widgets/controls",
          "model_module_version": "1.5.0",
          "model_name": "DescriptionStyleModel",
          "state": {
            "_model_module": "@jupyter-widgets/controls",
            "_model_module_version": "1.5.0",
            "_model_name": "DescriptionStyleModel",
            "_view_count": null,
            "_view_module": "@jupyter-widgets/base",
            "_view_module_version": "1.2.0",
            "_view_name": "StyleView",
            "description_width": ""
          }
        },
        "25988dbd9df34a3987593b242884e080": {
          "model_module": "@jupyter-widgets/base",
          "model_module_version": "1.2.0",
          "model_name": "LayoutModel",
          "state": {
            "_model_module": "@jupyter-widgets/base",
            "_model_module_version": "1.2.0",
            "_model_name": "LayoutModel",
            "_view_count": null,
            "_view_module": "@jupyter-widgets/base",
            "_view_module_version": "1.2.0",
            "_view_name": "LayoutView",
            "align_content": null,
            "align_items": null,
            "align_self": null,
            "border": null,
            "bottom": null,
            "display": null,
            "flex": null,
            "flex_flow": null,
            "grid_area": null,
            "grid_auto_columns": null,
            "grid_auto_flow": null,
            "grid_auto_rows": null,
            "grid_column": null,
            "grid_gap": null,
            "grid_row": null,
            "grid_template_areas": null,
            "grid_template_columns": null,
            "grid_template_rows": null,
            "height": null,
            "justify_content": null,
            "justify_items": null,
            "left": null,
            "margin": null,
            "max_height": null,
            "max_width": null,
            "min_height": null,
            "min_width": null,
            "object_fit": null,
            "object_position": null,
            "order": null,
            "overflow": null,
            "overflow_x": null,
            "overflow_y": null,
            "padding": null,
            "right": null,
            "top": null,
            "visibility": "hidden",
            "width": null
          }
        },
        "30f34c6e4ebb4234b07e4f66ab7056c0": {
          "model_module": "@jupyter-widgets/base",
          "model_module_version": "1.2.0",
          "model_name": "LayoutModel",
          "state": {
            "_model_module": "@jupyter-widgets/base",
            "_model_module_version": "1.2.0",
            "_model_name": "LayoutModel",
            "_view_count": null,
            "_view_module": "@jupyter-widgets/base",
            "_view_module_version": "1.2.0",
            "_view_name": "LayoutView",
            "align_content": null,
            "align_items": null,
            "align_self": null,
            "border": null,
            "bottom": null,
            "display": null,
            "flex": null,
            "flex_flow": null,
            "grid_area": null,
            "grid_auto_columns": null,
            "grid_auto_flow": null,
            "grid_auto_rows": null,
            "grid_column": null,
            "grid_gap": null,
            "grid_row": null,
            "grid_template_areas": null,
            "grid_template_columns": null,
            "grid_template_rows": null,
            "height": null,
            "justify_content": null,
            "justify_items": null,
            "left": null,
            "margin": null,
            "max_height": null,
            "max_width": null,
            "min_height": null,
            "min_width": null,
            "object_fit": null,
            "object_position": null,
            "order": null,
            "overflow": null,
            "overflow_x": null,
            "overflow_y": null,
            "padding": null,
            "right": null,
            "top": null,
            "visibility": null,
            "width": null
          }
        },
        "35b331aed02f4633a71092bf2fb00889": {
          "model_module": "@jupyter-widgets/base",
          "model_module_version": "1.2.0",
          "model_name": "LayoutModel",
          "state": {
            "_model_module": "@jupyter-widgets/base",
            "_model_module_version": "1.2.0",
            "_model_name": "LayoutModel",
            "_view_count": null,
            "_view_module": "@jupyter-widgets/base",
            "_view_module_version": "1.2.0",
            "_view_name": "LayoutView",
            "align_content": null,
            "align_items": null,
            "align_self": null,
            "border": null,
            "bottom": null,
            "display": null,
            "flex": null,
            "flex_flow": null,
            "grid_area": null,
            "grid_auto_columns": null,
            "grid_auto_flow": null,
            "grid_auto_rows": null,
            "grid_column": null,
            "grid_gap": null,
            "grid_row": null,
            "grid_template_areas": null,
            "grid_template_columns": null,
            "grid_template_rows": null,
            "height": null,
            "justify_content": null,
            "justify_items": null,
            "left": null,
            "margin": null,
            "max_height": null,
            "max_width": null,
            "min_height": null,
            "min_width": null,
            "object_fit": null,
            "object_position": null,
            "order": null,
            "overflow": null,
            "overflow_x": null,
            "overflow_y": null,
            "padding": null,
            "right": null,
            "top": null,
            "visibility": null,
            "width": null
          }
        },
        "35eef20f18664669b6bfa9917c2929d5": {
          "model_module": "@jupyter-widgets/base",
          "model_module_version": "1.2.0",
          "model_name": "LayoutModel",
          "state": {
            "_model_module": "@jupyter-widgets/base",
            "_model_module_version": "1.2.0",
            "_model_name": "LayoutModel",
            "_view_count": null,
            "_view_module": "@jupyter-widgets/base",
            "_view_module_version": "1.2.0",
            "_view_name": "LayoutView",
            "align_content": null,
            "align_items": null,
            "align_self": null,
            "border": null,
            "bottom": null,
            "display": null,
            "flex": null,
            "flex_flow": null,
            "grid_area": null,
            "grid_auto_columns": null,
            "grid_auto_flow": null,
            "grid_auto_rows": null,
            "grid_column": null,
            "grid_gap": null,
            "grid_row": null,
            "grid_template_areas": null,
            "grid_template_columns": null,
            "grid_template_rows": null,
            "height": null,
            "justify_content": null,
            "justify_items": null,
            "left": null,
            "margin": null,
            "max_height": null,
            "max_width": null,
            "min_height": null,
            "min_width": null,
            "object_fit": null,
            "object_position": null,
            "order": null,
            "overflow": null,
            "overflow_x": null,
            "overflow_y": null,
            "padding": null,
            "right": null,
            "top": null,
            "visibility": null,
            "width": null
          }
        },
        "3772af58b1994eaa8978eb99a5517205": {
          "model_module": "@jupyter-widgets/base",
          "model_module_version": "1.2.0",
          "model_name": "LayoutModel",
          "state": {
            "_model_module": "@jupyter-widgets/base",
            "_model_module_version": "1.2.0",
            "_model_name": "LayoutModel",
            "_view_count": null,
            "_view_module": "@jupyter-widgets/base",
            "_view_module_version": "1.2.0",
            "_view_name": "LayoutView",
            "align_content": null,
            "align_items": null,
            "align_self": null,
            "border": null,
            "bottom": null,
            "display": null,
            "flex": null,
            "flex_flow": null,
            "grid_area": null,
            "grid_auto_columns": null,
            "grid_auto_flow": null,
            "grid_auto_rows": null,
            "grid_column": null,
            "grid_gap": null,
            "grid_row": null,
            "grid_template_areas": null,
            "grid_template_columns": null,
            "grid_template_rows": null,
            "height": null,
            "justify_content": null,
            "justify_items": null,
            "left": null,
            "margin": null,
            "max_height": null,
            "max_width": null,
            "min_height": null,
            "min_width": null,
            "object_fit": null,
            "object_position": null,
            "order": null,
            "overflow": null,
            "overflow_x": null,
            "overflow_y": null,
            "padding": null,
            "right": null,
            "top": null,
            "visibility": null,
            "width": "20px"
          }
        },
        "3b661b7a9450467785c25f380087e356": {
          "model_module": "@jupyter-widgets/controls",
          "model_module_version": "1.5.0",
          "model_name": "HBoxModel",
          "state": {
            "_dom_classes": [],
            "_model_module": "@jupyter-widgets/controls",
            "_model_module_version": "1.5.0",
            "_model_name": "HBoxModel",
            "_view_count": null,
            "_view_module": "@jupyter-widgets/controls",
            "_view_module_version": "1.5.0",
            "_view_name": "HBoxView",
            "box_style": "",
            "children": [
              "IPY_MODEL_7ad044f69c92470f87b8c5d2d991bf46",
              "IPY_MODEL_ba1493265a9e48a189f6504a317dcf9b",
              "IPY_MODEL_b6a46d051d8644a1b2b6a8d047434679"
            ],
            "layout": "IPY_MODEL_0efd2ffb28fd438cb1df6c929e3e174e"
          }
        },
        "40bce0a94d244737b5f6632aa20b4446": {
          "model_module": "@jupyter-widgets/controls",
          "model_module_version": "1.5.0",
          "model_name": "DescriptionStyleModel",
          "state": {
            "_model_module": "@jupyter-widgets/controls",
            "_model_module_version": "1.5.0",
            "_model_name": "DescriptionStyleModel",
            "_view_count": null,
            "_view_module": "@jupyter-widgets/base",
            "_view_module_version": "1.2.0",
            "_view_name": "StyleView",
            "description_width": ""
          }
        },
        "41f07363255b4f58884c85ccd4dc1fc3": {
          "model_module": "@jupyter-widgets/controls",
          "model_module_version": "1.5.0",
          "model_name": "HTMLModel",
          "state": {
            "_dom_classes": [],
            "_model_module": "@jupyter-widgets/controls",
            "_model_module_version": "1.5.0",
            "_model_name": "HTMLModel",
            "_view_count": null,
            "_view_module": "@jupyter-widgets/controls",
            "_view_module_version": "1.5.0",
            "_view_name": "HTMLView",
            "description": "",
            "description_tooltip": null,
            "layout": "IPY_MODEL_e4d51b94d2f14ed6b5efedd6348b7d70",
            "placeholder": "​",
            "style": "IPY_MODEL_9ead5c9d353a4018a51b137a6a21d0d1",
            "value": "Dl Size...: 100%"
          }
        },
        "436071dfbef7428b810ee18a8c94ffd0": {
          "model_module": "@jupyter-widgets/controls",
          "model_module_version": "1.5.0",
          "model_name": "DescriptionStyleModel",
          "state": {
            "_model_module": "@jupyter-widgets/controls",
            "_model_module_version": "1.5.0",
            "_model_name": "DescriptionStyleModel",
            "_view_count": null,
            "_view_module": "@jupyter-widgets/base",
            "_view_module_version": "1.2.0",
            "_view_name": "StyleView",
            "description_width": ""
          }
        },
        "43b9c47a05124f119f0d4f5cf6dc960c": {
          "model_module": "@jupyter-widgets/controls",
          "model_module_version": "1.5.0",
          "model_name": "HTMLModel",
          "state": {
            "_dom_classes": [],
            "_model_module": "@jupyter-widgets/controls",
            "_model_module_version": "1.5.0",
            "_model_name": "HTMLModel",
            "_view_count": null,
            "_view_module": "@jupyter-widgets/controls",
            "_view_module_version": "1.5.0",
            "_view_name": "HTMLView",
            "description": "",
            "description_tooltip": null,
            "layout": "IPY_MODEL_30f34c6e4ebb4234b07e4f66ab7056c0",
            "placeholder": "​",
            "style": "IPY_MODEL_ceca885ab90b4f7d894ade1f45d3c2c5",
            "value": " 24593/25000 [00:05&lt;00:00, 5450.66 examples/s]"
          }
        },
        "498f7f3c0b774cf69ee4fc968f0b1ce5": {
          "model_module": "@jupyter-widgets/controls",
          "model_module_version": "1.5.0",
          "model_name": "DescriptionStyleModel",
          "state": {
            "_model_module": "@jupyter-widgets/controls",
            "_model_module_version": "1.5.0",
            "_model_name": "DescriptionStyleModel",
            "_view_count": null,
            "_view_module": "@jupyter-widgets/base",
            "_view_module_version": "1.2.0",
            "_view_name": "StyleView",
            "description_width": ""
          }
        },
        "4ad33f1aba7e47ebb387d4c4066604b0": {
          "model_module": "@jupyter-widgets/base",
          "model_module_version": "1.2.0",
          "model_name": "LayoutModel",
          "state": {
            "_model_module": "@jupyter-widgets/base",
            "_model_module_version": "1.2.0",
            "_model_name": "LayoutModel",
            "_view_count": null,
            "_view_module": "@jupyter-widgets/base",
            "_view_module_version": "1.2.0",
            "_view_name": "LayoutView",
            "align_content": null,
            "align_items": null,
            "align_self": null,
            "border": null,
            "bottom": null,
            "display": null,
            "flex": null,
            "flex_flow": null,
            "grid_area": null,
            "grid_auto_columns": null,
            "grid_auto_flow": null,
            "grid_auto_rows": null,
            "grid_column": null,
            "grid_gap": null,
            "grid_row": null,
            "grid_template_areas": null,
            "grid_template_columns": null,
            "grid_template_rows": null,
            "height": null,
            "justify_content": null,
            "justify_items": null,
            "left": null,
            "margin": null,
            "max_height": null,
            "max_width": null,
            "min_height": null,
            "min_width": null,
            "object_fit": null,
            "object_position": null,
            "order": null,
            "overflow": null,
            "overflow_x": null,
            "overflow_y": null,
            "padding": null,
            "right": null,
            "top": null,
            "visibility": null,
            "width": null
          }
        },
        "4bc06358de334d5ca46a33742b833cfd": {
          "model_module": "@jupyter-widgets/controls",
          "model_module_version": "1.5.0",
          "model_name": "DescriptionStyleModel",
          "state": {
            "_model_module": "@jupyter-widgets/controls",
            "_model_module_version": "1.5.0",
            "_model_name": "DescriptionStyleModel",
            "_view_count": null,
            "_view_module": "@jupyter-widgets/base",
            "_view_module_version": "1.2.0",
            "_view_name": "StyleView",
            "description_width": ""
          }
        },
        "4d53a9c8db4b42b3b1db6a9426087cbf": {
          "model_module": "@jupyter-widgets/base",
          "model_module_version": "1.2.0",
          "model_name": "LayoutModel",
          "state": {
            "_model_module": "@jupyter-widgets/base",
            "_model_module_version": "1.2.0",
            "_model_name": "LayoutModel",
            "_view_count": null,
            "_view_module": "@jupyter-widgets/base",
            "_view_module_version": "1.2.0",
            "_view_name": "LayoutView",
            "align_content": null,
            "align_items": null,
            "align_self": null,
            "border": null,
            "bottom": null,
            "display": null,
            "flex": null,
            "flex_flow": null,
            "grid_area": null,
            "grid_auto_columns": null,
            "grid_auto_flow": null,
            "grid_auto_rows": null,
            "grid_column": null,
            "grid_gap": null,
            "grid_row": null,
            "grid_template_areas": null,
            "grid_template_columns": null,
            "grid_template_rows": null,
            "height": null,
            "justify_content": null,
            "justify_items": null,
            "left": null,
            "margin": null,
            "max_height": null,
            "max_width": null,
            "min_height": null,
            "min_width": null,
            "object_fit": null,
            "object_position": null,
            "order": null,
            "overflow": null,
            "overflow_x": null,
            "overflow_y": null,
            "padding": null,
            "right": null,
            "top": null,
            "visibility": null,
            "width": null
          }
        },
        "52ba04c9c9604f3ea1f25fffe9fa71ca": {
          "model_module": "@jupyter-widgets/base",
          "model_module_version": "1.2.0",
          "model_name": "LayoutModel",
          "state": {
            "_model_module": "@jupyter-widgets/base",
            "_model_module_version": "1.2.0",
            "_model_name": "LayoutModel",
            "_view_count": null,
            "_view_module": "@jupyter-widgets/base",
            "_view_module_version": "1.2.0",
            "_view_name": "LayoutView",
            "align_content": null,
            "align_items": null,
            "align_self": null,
            "border": null,
            "bottom": null,
            "display": null,
            "flex": null,
            "flex_flow": null,
            "grid_area": null,
            "grid_auto_columns": null,
            "grid_auto_flow": null,
            "grid_auto_rows": null,
            "grid_column": null,
            "grid_gap": null,
            "grid_row": null,
            "grid_template_areas": null,
            "grid_template_columns": null,
            "grid_template_rows": null,
            "height": null,
            "justify_content": null,
            "justify_items": null,
            "left": null,
            "margin": null,
            "max_height": null,
            "max_width": null,
            "min_height": null,
            "min_width": null,
            "object_fit": null,
            "object_position": null,
            "order": null,
            "overflow": null,
            "overflow_x": null,
            "overflow_y": null,
            "padding": null,
            "right": null,
            "top": null,
            "visibility": null,
            "width": null
          }
        },
        "54ca292c6c02462c8d29c2cbcdb30353": {
          "model_module": "@jupyter-widgets/base",
          "model_module_version": "1.2.0",
          "model_name": "LayoutModel",
          "state": {
            "_model_module": "@jupyter-widgets/base",
            "_model_module_version": "1.2.0",
            "_model_name": "LayoutModel",
            "_view_count": null,
            "_view_module": "@jupyter-widgets/base",
            "_view_module_version": "1.2.0",
            "_view_name": "LayoutView",
            "align_content": null,
            "align_items": null,
            "align_self": null,
            "border": null,
            "bottom": null,
            "display": null,
            "flex": null,
            "flex_flow": null,
            "grid_area": null,
            "grid_auto_columns": null,
            "grid_auto_flow": null,
            "grid_auto_rows": null,
            "grid_column": null,
            "grid_gap": null,
            "grid_row": null,
            "grid_template_areas": null,
            "grid_template_columns": null,
            "grid_template_rows": null,
            "height": null,
            "justify_content": null,
            "justify_items": null,
            "left": null,
            "margin": null,
            "max_height": null,
            "max_width": null,
            "min_height": null,
            "min_width": null,
            "object_fit": null,
            "object_position": null,
            "order": null,
            "overflow": null,
            "overflow_x": null,
            "overflow_y": null,
            "padding": null,
            "right": null,
            "top": null,
            "visibility": null,
            "width": null
          }
        },
        "55aef4cb517e4954a1771fbb68947669": {
          "model_module": "@jupyter-widgets/controls",
          "model_module_version": "1.5.0",
          "model_name": "ProgressStyleModel",
          "state": {
            "_model_module": "@jupyter-widgets/controls",
            "_model_module_version": "1.5.0",
            "_model_name": "ProgressStyleModel",
            "_view_count": null,
            "_view_module": "@jupyter-widgets/base",
            "_view_module_version": "1.2.0",
            "_view_name": "StyleView",
            "bar_color": null,
            "description_width": ""
          }
        },
        "5775d060e7cb4874976486a923dbaa4d": {
          "model_module": "@jupyter-widgets/base",
          "model_module_version": "1.2.0",
          "model_name": "LayoutModel",
          "state": {
            "_model_module": "@jupyter-widgets/base",
            "_model_module_version": "1.2.0",
            "_model_name": "LayoutModel",
            "_view_count": null,
            "_view_module": "@jupyter-widgets/base",
            "_view_module_version": "1.2.0",
            "_view_name": "LayoutView",
            "align_content": null,
            "align_items": null,
            "align_self": null,
            "border": null,
            "bottom": null,
            "display": null,
            "flex": null,
            "flex_flow": null,
            "grid_area": null,
            "grid_auto_columns": null,
            "grid_auto_flow": null,
            "grid_auto_rows": null,
            "grid_column": null,
            "grid_gap": null,
            "grid_row": null,
            "grid_template_areas": null,
            "grid_template_columns": null,
            "grid_template_rows": null,
            "height": null,
            "justify_content": null,
            "justify_items": null,
            "left": null,
            "margin": null,
            "max_height": null,
            "max_width": null,
            "min_height": null,
            "min_width": null,
            "object_fit": null,
            "object_position": null,
            "order": null,
            "overflow": null,
            "overflow_x": null,
            "overflow_y": null,
            "padding": null,
            "right": null,
            "top": null,
            "visibility": "hidden",
            "width": null
          }
        },
        "60350dc378c74cefac275323de8d7841": {
          "model_module": "@jupyter-widgets/controls",
          "model_module_version": "1.5.0",
          "model_name": "FloatProgressModel",
          "state": {
            "_dom_classes": [],
            "_model_module": "@jupyter-widgets/controls",
            "_model_module_version": "1.5.0",
            "_model_name": "FloatProgressModel",
            "_view_count": null,
            "_view_module": "@jupyter-widgets/controls",
            "_view_module_version": "1.5.0",
            "_view_name": "ProgressView",
            "bar_style": "",
            "description": "",
            "description_tooltip": null,
            "layout": "IPY_MODEL_b0070ace81794e7c8b1197076c506d8f",
            "max": 3,
            "min": 0,
            "orientation": "horizontal",
            "style": "IPY_MODEL_ff13b5a7ef634d8aad1af1bad2432b4e",
            "value": 3
          }
        },
        "6889bb74b9504900991cf0811dadf195": {
          "model_module": "@jupyter-widgets/base",
          "model_module_version": "1.2.0",
          "model_name": "LayoutModel",
          "state": {
            "_model_module": "@jupyter-widgets/base",
            "_model_module_version": "1.2.0",
            "_model_name": "LayoutModel",
            "_view_count": null,
            "_view_module": "@jupyter-widgets/base",
            "_view_module_version": "1.2.0",
            "_view_name": "LayoutView",
            "align_content": null,
            "align_items": null,
            "align_self": null,
            "border": null,
            "bottom": null,
            "display": null,
            "flex": null,
            "flex_flow": null,
            "grid_area": null,
            "grid_auto_columns": null,
            "grid_auto_flow": null,
            "grid_auto_rows": null,
            "grid_column": null,
            "grid_gap": null,
            "grid_row": null,
            "grid_template_areas": null,
            "grid_template_columns": null,
            "grid_template_rows": null,
            "height": null,
            "justify_content": null,
            "justify_items": null,
            "left": null,
            "margin": null,
            "max_height": null,
            "max_width": null,
            "min_height": null,
            "min_width": null,
            "object_fit": null,
            "object_position": null,
            "order": null,
            "overflow": null,
            "overflow_x": null,
            "overflow_y": null,
            "padding": null,
            "right": null,
            "top": null,
            "visibility": null,
            "width": null
          }
        },
        "6fbd9d2f79f7447da707b073210d56ae": {
          "model_module": "@jupyter-widgets/controls",
          "model_module_version": "1.5.0",
          "model_name": "FloatProgressModel",
          "state": {
            "_dom_classes": [],
            "_model_module": "@jupyter-widgets/controls",
            "_model_module_version": "1.5.0",
            "_model_name": "FloatProgressModel",
            "_view_count": null,
            "_view_module": "@jupyter-widgets/controls",
            "_view_module_version": "1.5.0",
            "_view_name": "ProgressView",
            "bar_style": "",
            "description": "",
            "description_tooltip": null,
            "layout": "IPY_MODEL_ca8ab3f37abc4d96aa1bb0e0b2dda6de",
            "max": 25000,
            "min": 0,
            "orientation": "horizontal",
            "style": "IPY_MODEL_e38c67708cd541e29a0afb5a8fa9c7f7",
            "value": 25000
          }
        },
        "70c39ed4d5164b0b84cc6adc0f305448": {
          "model_module": "@jupyter-widgets/base",
          "model_module_version": "1.2.0",
          "model_name": "LayoutModel",
          "state": {
            "_model_module": "@jupyter-widgets/base",
            "_model_module_version": "1.2.0",
            "_model_name": "LayoutModel",
            "_view_count": null,
            "_view_module": "@jupyter-widgets/base",
            "_view_module_version": "1.2.0",
            "_view_name": "LayoutView",
            "align_content": null,
            "align_items": null,
            "align_self": null,
            "border": null,
            "bottom": null,
            "display": null,
            "flex": null,
            "flex_flow": null,
            "grid_area": null,
            "grid_auto_columns": null,
            "grid_auto_flow": null,
            "grid_auto_rows": null,
            "grid_column": null,
            "grid_gap": null,
            "grid_row": null,
            "grid_template_areas": null,
            "grid_template_columns": null,
            "grid_template_rows": null,
            "height": null,
            "justify_content": null,
            "justify_items": null,
            "left": null,
            "margin": null,
            "max_height": null,
            "max_width": null,
            "min_height": null,
            "min_width": null,
            "object_fit": null,
            "object_position": null,
            "order": null,
            "overflow": null,
            "overflow_x": null,
            "overflow_y": null,
            "padding": null,
            "right": null,
            "top": null,
            "visibility": null,
            "width": null
          }
        },
        "71022952613c456a8e4885b4e63eb607": {
          "model_module": "@jupyter-widgets/controls",
          "model_module_version": "1.5.0",
          "model_name": "HBoxModel",
          "state": {
            "_dom_classes": [],
            "_model_module": "@jupyter-widgets/controls",
            "_model_module_version": "1.5.0",
            "_model_name": "HBoxModel",
            "_view_count": null,
            "_view_module": "@jupyter-widgets/controls",
            "_view_module_version": "1.5.0",
            "_view_name": "HBoxView",
            "box_style": "",
            "children": [
              "IPY_MODEL_c0b380855dcc48ee9894b3532ca20a3a",
              "IPY_MODEL_6fbd9d2f79f7447da707b073210d56ae",
              "IPY_MODEL_1917881118b549d4bb6d80ceefdd2ce7"
            ],
            "layout": "IPY_MODEL_d624ee8d1be440a6a2c4cbf41be0f3f4"
          }
        },
        "719fca7295924089ad40dd9c418baa82": {
          "model_module": "@jupyter-widgets/controls",
          "model_module_version": "1.5.0",
          "model_name": "HTMLModel",
          "state": {
            "_dom_classes": [],
            "_model_module": "@jupyter-widgets/controls",
            "_model_module_version": "1.5.0",
            "_model_name": "HTMLModel",
            "_view_count": null,
            "_view_module": "@jupyter-widgets/controls",
            "_view_module_version": "1.5.0",
            "_view_name": "HTMLView",
            "description": "",
            "description_tooltip": null,
            "layout": "IPY_MODEL_54ca292c6c02462c8d29c2cbcdb30353",
            "placeholder": "​",
            "style": "IPY_MODEL_436071dfbef7428b810ee18a8c94ffd0",
            "value": "Shuffling /root/tensorflow_datasets/imdb_reviews/plain_text/1.0.0.incompleteKAFX4Y/imdb_reviews-train.tfrecord*...:  60%"
          }
        },
        "79d6bb826d04413c8bc8038ca565dab1": {
          "model_module": "@jupyter-widgets/controls",
          "model_module_version": "1.5.0",
          "model_name": "FloatProgressModel",
          "state": {
            "_dom_classes": [],
            "_model_module": "@jupyter-widgets/controls",
            "_model_module_version": "1.5.0",
            "_model_name": "FloatProgressModel",
            "_view_count": null,
            "_view_module": "@jupyter-widgets/controls",
            "_view_module_version": "1.5.0",
            "_view_name": "ProgressView",
            "bar_style": "",
            "description": "",
            "description_tooltip": null,
            "layout": "IPY_MODEL_e66a8312e66c480b903889e0daa11083",
            "max": 25000,
            "min": 0,
            "orientation": "horizontal",
            "style": "IPY_MODEL_1911d2ffba79456f804989b2d2b8314c",
            "value": 25000
          }
        },
        "7ad044f69c92470f87b8c5d2d991bf46": {
          "model_module": "@jupyter-widgets/controls",
          "model_module_version": "1.5.0",
          "model_name": "HTMLModel",
          "state": {
            "_dom_classes": [],
            "_model_module": "@jupyter-widgets/controls",
            "_model_module_version": "1.5.0",
            "_model_name": "HTMLModel",
            "_view_count": null,
            "_view_module": "@jupyter-widgets/controls",
            "_view_module_version": "1.5.0",
            "_view_name": "HTMLView",
            "description": "",
            "description_tooltip": null,
            "layout": "IPY_MODEL_aace268b96af4619b9db8f9855cfbd5f",
            "placeholder": "​",
            "style": "IPY_MODEL_4bc06358de334d5ca46a33742b833cfd",
            "value": "Shuffling /root/tensorflow_datasets/imdb_reviews/plain_text/1.0.0.incompleteKAFX4Y/imdb_reviews-unsupervised.tfrecord*...:  80%"
          }
        },
        "7e035503e89a4670848892c058e3dbe9": {
          "model_module": "@jupyter-widgets/controls",
          "model_module_version": "1.5.0",
          "model_name": "DescriptionStyleModel",
          "state": {
            "_model_module": "@jupyter-widgets/controls",
            "_model_module_version": "1.5.0",
            "_model_name": "DescriptionStyleModel",
            "_view_count": null,
            "_view_module": "@jupyter-widgets/base",
            "_view_module_version": "1.2.0",
            "_view_name": "StyleView",
            "description_width": ""
          }
        },
        "836cade2c71943c2a5ea1cd1c36e8629": {
          "model_module": "@jupyter-widgets/controls",
          "model_module_version": "1.5.0",
          "model_name": "HBoxModel",
          "state": {
            "_dom_classes": [],
            "_model_module": "@jupyter-widgets/controls",
            "_model_module_version": "1.5.0",
            "_model_name": "HBoxModel",
            "_view_count": null,
            "_view_module": "@jupyter-widgets/controls",
            "_view_module_version": "1.5.0",
            "_view_name": "HBoxView",
            "box_style": "",
            "children": [
              "IPY_MODEL_be76102dacbb4cd7a68c09b5a5733aaa",
              "IPY_MODEL_abba9fd118cd4d7ebe893a89218e692b",
              "IPY_MODEL_f4ce31e3c29e4cb4ab355f0d44a92054"
            ],
            "layout": "IPY_MODEL_c14649ab053d4ad68322e5458d7ca6fa"
          }
        },
        "8537589c5fbb4d9ebd7a4a8e2ae50a14": {
          "model_module": "@jupyter-widgets/controls",
          "model_module_version": "1.5.0",
          "model_name": "FloatProgressModel",
          "state": {
            "_dom_classes": [],
            "_model_module": "@jupyter-widgets/controls",
            "_model_module_version": "1.5.0",
            "_model_name": "FloatProgressModel",
            "_view_count": null,
            "_view_module": "@jupyter-widgets/controls",
            "_view_module_version": "1.5.0",
            "_view_name": "ProgressView",
            "bar_style": "",
            "description": "",
            "description_tooltip": null,
            "layout": "IPY_MODEL_f68e7941ff764a138c7b6573899d6f00",
            "max": 25000,
            "min": 0,
            "orientation": "horizontal",
            "style": "IPY_MODEL_c10258721abf451395d3178796654d16",
            "value": 25000
          }
        },
        "8792fbb950294d1fa2c04bad4c2a64c1": {
          "model_module": "@jupyter-widgets/base",
          "model_module_version": "1.2.0",
          "model_name": "LayoutModel",
          "state": {
            "_model_module": "@jupyter-widgets/base",
            "_model_module_version": "1.2.0",
            "_model_name": "LayoutModel",
            "_view_count": null,
            "_view_module": "@jupyter-widgets/base",
            "_view_module_version": "1.2.0",
            "_view_name": "LayoutView",
            "align_content": null,
            "align_items": null,
            "align_self": null,
            "border": null,
            "bottom": null,
            "display": null,
            "flex": null,
            "flex_flow": null,
            "grid_area": null,
            "grid_auto_columns": null,
            "grid_auto_flow": null,
            "grid_auto_rows": null,
            "grid_column": null,
            "grid_gap": null,
            "grid_row": null,
            "grid_template_areas": null,
            "grid_template_columns": null,
            "grid_template_rows": null,
            "height": null,
            "justify_content": null,
            "justify_items": null,
            "left": null,
            "margin": null,
            "max_height": null,
            "max_width": null,
            "min_height": null,
            "min_width": null,
            "object_fit": null,
            "object_position": null,
            "order": null,
            "overflow": null,
            "overflow_x": null,
            "overflow_y": null,
            "padding": null,
            "right": null,
            "top": null,
            "visibility": "hidden",
            "width": null
          }
        },
        "8892f2cd39964823adc864b4f93665df": {
          "model_module": "@jupyter-widgets/controls",
          "model_module_version": "1.5.0",
          "model_name": "DescriptionStyleModel",
          "state": {
            "_model_module": "@jupyter-widgets/controls",
            "_model_module_version": "1.5.0",
            "_model_name": "DescriptionStyleModel",
            "_view_count": null,
            "_view_module": "@jupyter-widgets/base",
            "_view_module_version": "1.2.0",
            "_view_name": "StyleView",
            "description_width": ""
          }
        },
        "8894ec2e0a43489686fbf12806dafdbf": {
          "model_module": "@jupyter-widgets/controls",
          "model_module_version": "1.5.0",
          "model_name": "DescriptionStyleModel",
          "state": {
            "_model_module": "@jupyter-widgets/controls",
            "_model_module_version": "1.5.0",
            "_model_name": "DescriptionStyleModel",
            "_view_count": null,
            "_view_module": "@jupyter-widgets/base",
            "_view_module_version": "1.2.0",
            "_view_name": "StyleView",
            "description_width": ""
          }
        },
        "90ba017ec5324795b09fc3b183d87d7a": {
          "model_module": "@jupyter-widgets/controls",
          "model_module_version": "1.5.0",
          "model_name": "HTMLModel",
          "state": {
            "_dom_classes": [],
            "_model_module": "@jupyter-widgets/controls",
            "_model_module_version": "1.5.0",
            "_model_name": "HTMLModel",
            "_view_count": null,
            "_view_module": "@jupyter-widgets/controls",
            "_view_module_version": "1.5.0",
            "_view_name": "HTMLView",
            "description": "",
            "description_tooltip": null,
            "layout": "IPY_MODEL_52ba04c9c9604f3ea1f25fffe9fa71ca",
            "placeholder": "​",
            "style": "IPY_MODEL_8892f2cd39964823adc864b4f93665df",
            "value": " 49654/50000 [00:13&lt;00:00, 5232.56 examples/s]"
          }
        },
        "93294a99b49c42cdad2dd8f9a71c3d42": {
          "model_module": "@jupyter-widgets/controls",
          "model_module_version": "1.5.0",
          "model_name": "ProgressStyleModel",
          "state": {
            "_model_module": "@jupyter-widgets/controls",
            "_model_module_version": "1.5.0",
            "_model_name": "ProgressStyleModel",
            "_view_count": null,
            "_view_module": "@jupyter-widgets/base",
            "_view_module_version": "1.2.0",
            "_view_name": "StyleView",
            "bar_color": null,
            "description_width": ""
          }
        },
        "96c57454166a4e0383aeba8e31e46a51": {
          "model_module": "@jupyter-widgets/base",
          "model_module_version": "1.2.0",
          "model_name": "LayoutModel",
          "state": {
            "_model_module": "@jupyter-widgets/base",
            "_model_module_version": "1.2.0",
            "_model_name": "LayoutModel",
            "_view_count": null,
            "_view_module": "@jupyter-widgets/base",
            "_view_module_version": "1.2.0",
            "_view_name": "LayoutView",
            "align_content": null,
            "align_items": null,
            "align_self": null,
            "border": null,
            "bottom": null,
            "display": null,
            "flex": null,
            "flex_flow": null,
            "grid_area": null,
            "grid_auto_columns": null,
            "grid_auto_flow": null,
            "grid_auto_rows": null,
            "grid_column": null,
            "grid_gap": null,
            "grid_row": null,
            "grid_template_areas": null,
            "grid_template_columns": null,
            "grid_template_rows": null,
            "height": null,
            "justify_content": null,
            "justify_items": null,
            "left": null,
            "margin": null,
            "max_height": null,
            "max_width": null,
            "min_height": null,
            "min_width": null,
            "object_fit": null,
            "object_position": null,
            "order": null,
            "overflow": null,
            "overflow_x": null,
            "overflow_y": null,
            "padding": null,
            "right": null,
            "top": null,
            "visibility": "hidden",
            "width": null
          }
        },
        "9d4d3d16039d4a3e93d08cde55489384": {
          "model_module": "@jupyter-widgets/base",
          "model_module_version": "1.2.0",
          "model_name": "LayoutModel",
          "state": {
            "_model_module": "@jupyter-widgets/base",
            "_model_module_version": "1.2.0",
            "_model_name": "LayoutModel",
            "_view_count": null,
            "_view_module": "@jupyter-widgets/base",
            "_view_module_version": "1.2.0",
            "_view_name": "LayoutView",
            "align_content": null,
            "align_items": null,
            "align_self": null,
            "border": null,
            "bottom": null,
            "display": null,
            "flex": null,
            "flex_flow": null,
            "grid_area": null,
            "grid_auto_columns": null,
            "grid_auto_flow": null,
            "grid_auto_rows": null,
            "grid_column": null,
            "grid_gap": null,
            "grid_row": null,
            "grid_template_areas": null,
            "grid_template_columns": null,
            "grid_template_rows": null,
            "height": null,
            "justify_content": null,
            "justify_items": null,
            "left": null,
            "margin": null,
            "max_height": null,
            "max_width": null,
            "min_height": null,
            "min_width": null,
            "object_fit": null,
            "object_position": null,
            "order": null,
            "overflow": null,
            "overflow_x": null,
            "overflow_y": null,
            "padding": null,
            "right": null,
            "top": null,
            "visibility": null,
            "width": null
          }
        },
        "9ead5c9d353a4018a51b137a6a21d0d1": {
          "model_module": "@jupyter-widgets/controls",
          "model_module_version": "1.5.0",
          "model_name": "DescriptionStyleModel",
          "state": {
            "_model_module": "@jupyter-widgets/controls",
            "_model_module_version": "1.5.0",
            "_model_name": "DescriptionStyleModel",
            "_view_count": null,
            "_view_module": "@jupyter-widgets/base",
            "_view_module_version": "1.2.0",
            "_view_name": "StyleView",
            "description_width": ""
          }
        },
        "a1f0baf85ef844c78638744ee603c878": {
          "model_module": "@jupyter-widgets/controls",
          "model_module_version": "1.5.0",
          "model_name": "HTMLModel",
          "state": {
            "_dom_classes": [],
            "_model_module": "@jupyter-widgets/controls",
            "_model_module_version": "1.5.0",
            "_model_name": "HTMLModel",
            "_view_count": null,
            "_view_module": "@jupyter-widgets/controls",
            "_view_module_version": "1.5.0",
            "_view_name": "HTMLView",
            "description": "",
            "description_tooltip": null,
            "layout": "IPY_MODEL_aac175c1568c4926b3331fac4ff40bc7",
            "placeholder": "​",
            "style": "IPY_MODEL_498f7f3c0b774cf69ee4fc968f0b1ce5",
            "value": "Generating unsupervised examples...:  99%"
          }
        },
        "a5ea089ac4ce42df8b4a445207ab72ca": {
          "model_module": "@jupyter-widgets/controls",
          "model_module_version": "1.5.0",
          "model_name": "ProgressStyleModel",
          "state": {
            "_model_module": "@jupyter-widgets/controls",
            "_model_module_version": "1.5.0",
            "_model_name": "ProgressStyleModel",
            "_view_count": null,
            "_view_module": "@jupyter-widgets/base",
            "_view_module_version": "1.2.0",
            "_view_name": "StyleView",
            "bar_color": null,
            "description_width": ""
          }
        },
        "a862a93dfc4f4c629e30fb83a4945761": {
          "model_module": "@jupyter-widgets/base",
          "model_module_version": "1.2.0",
          "model_name": "LayoutModel",
          "state": {
            "_model_module": "@jupyter-widgets/base",
            "_model_module_version": "1.2.0",
            "_model_name": "LayoutModel",
            "_view_count": null,
            "_view_module": "@jupyter-widgets/base",
            "_view_module_version": "1.2.0",
            "_view_name": "LayoutView",
            "align_content": null,
            "align_items": null,
            "align_self": null,
            "border": null,
            "bottom": null,
            "display": null,
            "flex": null,
            "flex_flow": null,
            "grid_area": null,
            "grid_auto_columns": null,
            "grid_auto_flow": null,
            "grid_auto_rows": null,
            "grid_column": null,
            "grid_gap": null,
            "grid_row": null,
            "grid_template_areas": null,
            "grid_template_columns": null,
            "grid_template_rows": null,
            "height": null,
            "justify_content": null,
            "justify_items": null,
            "left": null,
            "margin": null,
            "max_height": null,
            "max_width": null,
            "min_height": null,
            "min_width": null,
            "object_fit": null,
            "object_position": null,
            "order": null,
            "overflow": null,
            "overflow_x": null,
            "overflow_y": null,
            "padding": null,
            "right": null,
            "top": null,
            "visibility": null,
            "width": null
          }
        },
        "aac175c1568c4926b3331fac4ff40bc7": {
          "model_module": "@jupyter-widgets/base",
          "model_module_version": "1.2.0",
          "model_name": "LayoutModel",
          "state": {
            "_model_module": "@jupyter-widgets/base",
            "_model_module_version": "1.2.0",
            "_model_name": "LayoutModel",
            "_view_count": null,
            "_view_module": "@jupyter-widgets/base",
            "_view_module_version": "1.2.0",
            "_view_name": "LayoutView",
            "align_content": null,
            "align_items": null,
            "align_self": null,
            "border": null,
            "bottom": null,
            "display": null,
            "flex": null,
            "flex_flow": null,
            "grid_area": null,
            "grid_auto_columns": null,
            "grid_auto_flow": null,
            "grid_auto_rows": null,
            "grid_column": null,
            "grid_gap": null,
            "grid_row": null,
            "grid_template_areas": null,
            "grid_template_columns": null,
            "grid_template_rows": null,
            "height": null,
            "justify_content": null,
            "justify_items": null,
            "left": null,
            "margin": null,
            "max_height": null,
            "max_width": null,
            "min_height": null,
            "min_width": null,
            "object_fit": null,
            "object_position": null,
            "order": null,
            "overflow": null,
            "overflow_x": null,
            "overflow_y": null,
            "padding": null,
            "right": null,
            "top": null,
            "visibility": null,
            "width": null
          }
        },
        "aace268b96af4619b9db8f9855cfbd5f": {
          "model_module": "@jupyter-widgets/base",
          "model_module_version": "1.2.0",
          "model_name": "LayoutModel",
          "state": {
            "_model_module": "@jupyter-widgets/base",
            "_model_module_version": "1.2.0",
            "_model_name": "LayoutModel",
            "_view_count": null,
            "_view_module": "@jupyter-widgets/base",
            "_view_module_version": "1.2.0",
            "_view_name": "LayoutView",
            "align_content": null,
            "align_items": null,
            "align_self": null,
            "border": null,
            "bottom": null,
            "display": null,
            "flex": null,
            "flex_flow": null,
            "grid_area": null,
            "grid_auto_columns": null,
            "grid_auto_flow": null,
            "grid_auto_rows": null,
            "grid_column": null,
            "grid_gap": null,
            "grid_row": null,
            "grid_template_areas": null,
            "grid_template_columns": null,
            "grid_template_rows": null,
            "height": null,
            "justify_content": null,
            "justify_items": null,
            "left": null,
            "margin": null,
            "max_height": null,
            "max_width": null,
            "min_height": null,
            "min_width": null,
            "object_fit": null,
            "object_position": null,
            "order": null,
            "overflow": null,
            "overflow_x": null,
            "overflow_y": null,
            "padding": null,
            "right": null,
            "top": null,
            "visibility": null,
            "width": null
          }
        },
        "abba9fd118cd4d7ebe893a89218e692b": {
          "model_module": "@jupyter-widgets/controls",
          "model_module_version": "1.5.0",
          "model_name": "FloatProgressModel",
          "state": {
            "_dom_classes": [],
            "_model_module": "@jupyter-widgets/controls",
            "_model_module_version": "1.5.0",
            "_model_name": "FloatProgressModel",
            "_view_count": null,
            "_view_module": "@jupyter-widgets/controls",
            "_view_module_version": "1.5.0",
            "_view_name": "ProgressView",
            "bar_style": "success",
            "description": "",
            "description_tooltip": null,
            "layout": "IPY_MODEL_e70607b30b8f41bb8dbf39f05257c95e",
            "max": 1,
            "min": 0,
            "orientation": "horizontal",
            "style": "IPY_MODEL_a5ea089ac4ce42df8b4a445207ab72ca",
            "value": 1
          }
        },
        "ad9f5fec5df34cf18cf2a4a1b4ca08a9": {
          "model_module": "@jupyter-widgets/controls",
          "model_module_version": "1.5.0",
          "model_name": "HBoxModel",
          "state": {
            "_dom_classes": [],
            "_model_module": "@jupyter-widgets/controls",
            "_model_module_version": "1.5.0",
            "_model_name": "HBoxModel",
            "_view_count": null,
            "_view_module": "@jupyter-widgets/controls",
            "_view_module_version": "1.5.0",
            "_view_name": "HBoxView",
            "box_style": "",
            "children": [
              "IPY_MODEL_41f07363255b4f58884c85ccd4dc1fc3",
              "IPY_MODEL_e7cae897684d4c6ba48927fd3991e193",
              "IPY_MODEL_ce4216e59803412794145a6d1e972091"
            ],
            "layout": "IPY_MODEL_70c39ed4d5164b0b84cc6adc0f305448"
          }
        },
        "ae11f85c30ba4528bfedb2989e795b54": {
          "model_module": "@jupyter-widgets/base",
          "model_module_version": "1.2.0",
          "model_name": "LayoutModel",
          "state": {
            "_model_module": "@jupyter-widgets/base",
            "_model_module_version": "1.2.0",
            "_model_name": "LayoutModel",
            "_view_count": null,
            "_view_module": "@jupyter-widgets/base",
            "_view_module_version": "1.2.0",
            "_view_name": "LayoutView",
            "align_content": null,
            "align_items": null,
            "align_self": null,
            "border": null,
            "bottom": null,
            "display": null,
            "flex": null,
            "flex_flow": null,
            "grid_area": null,
            "grid_auto_columns": null,
            "grid_auto_flow": null,
            "grid_auto_rows": null,
            "grid_column": null,
            "grid_gap": null,
            "grid_row": null,
            "grid_template_areas": null,
            "grid_template_columns": null,
            "grid_template_rows": null,
            "height": null,
            "justify_content": null,
            "justify_items": null,
            "left": null,
            "margin": null,
            "max_height": null,
            "max_width": null,
            "min_height": null,
            "min_width": null,
            "object_fit": null,
            "object_position": null,
            "order": null,
            "overflow": null,
            "overflow_x": null,
            "overflow_y": null,
            "padding": null,
            "right": null,
            "top": null,
            "visibility": "hidden",
            "width": null
          }
        },
        "b0070ace81794e7c8b1197076c506d8f": {
          "model_module": "@jupyter-widgets/base",
          "model_module_version": "1.2.0",
          "model_name": "LayoutModel",
          "state": {
            "_model_module": "@jupyter-widgets/base",
            "_model_module_version": "1.2.0",
            "_model_name": "LayoutModel",
            "_view_count": null,
            "_view_module": "@jupyter-widgets/base",
            "_view_module_version": "1.2.0",
            "_view_name": "LayoutView",
            "align_content": null,
            "align_items": null,
            "align_self": null,
            "border": null,
            "bottom": null,
            "display": null,
            "flex": null,
            "flex_flow": null,
            "grid_area": null,
            "grid_auto_columns": null,
            "grid_auto_flow": null,
            "grid_auto_rows": null,
            "grid_column": null,
            "grid_gap": null,
            "grid_row": null,
            "grid_template_areas": null,
            "grid_template_columns": null,
            "grid_template_rows": null,
            "height": null,
            "justify_content": null,
            "justify_items": null,
            "left": null,
            "margin": null,
            "max_height": null,
            "max_width": null,
            "min_height": null,
            "min_width": null,
            "object_fit": null,
            "object_position": null,
            "order": null,
            "overflow": null,
            "overflow_x": null,
            "overflow_y": null,
            "padding": null,
            "right": null,
            "top": null,
            "visibility": null,
            "width": null
          }
        },
        "b31ab53ea97a44e380e95966bc85e252": {
          "model_module": "@jupyter-widgets/controls",
          "model_module_version": "1.5.0",
          "model_name": "HBoxModel",
          "state": {
            "_dom_classes": [],
            "_model_module": "@jupyter-widgets/controls",
            "_model_module_version": "1.5.0",
            "_model_name": "HBoxModel",
            "_view_count": null,
            "_view_module": "@jupyter-widgets/controls",
            "_view_module_version": "1.5.0",
            "_view_name": "HBoxView",
            "box_style": "",
            "children": [
              "IPY_MODEL_b3541008f6c341c6a96bf824db55824a",
              "IPY_MODEL_db63d4ce683a4fa5a85ae0f9ef1f235e",
              "IPY_MODEL_096cc8c5a31e413ebdf4f4875119518d"
            ],
            "layout": "IPY_MODEL_ae11f85c30ba4528bfedb2989e795b54"
          }
        },
        "b3541008f6c341c6a96bf824db55824a": {
          "model_module": "@jupyter-widgets/controls",
          "model_module_version": "1.5.0",
          "model_name": "HTMLModel",
          "state": {
            "_dom_classes": [],
            "_model_module": "@jupyter-widgets/controls",
            "_model_module_version": "1.5.0",
            "_model_name": "HTMLModel",
            "_view_count": null,
            "_view_module": "@jupyter-widgets/controls",
            "_view_module_version": "1.5.0",
            "_view_name": "HTMLView",
            "description": "",
            "description_tooltip": null,
            "layout": "IPY_MODEL_02172fdb87fc47ca842b20a9dc23f6e2",
            "placeholder": "​",
            "style": "IPY_MODEL_7e035503e89a4670848892c058e3dbe9",
            "value": "Generating train examples...:  98%"
          }
        },
        "b446c42995de49a5badc2463547828b8": {
          "model_module": "@jupyter-widgets/base",
          "model_module_version": "1.2.0",
          "model_name": "LayoutModel",
          "state": {
            "_model_module": "@jupyter-widgets/base",
            "_model_module_version": "1.2.0",
            "_model_name": "LayoutModel",
            "_view_count": null,
            "_view_module": "@jupyter-widgets/base",
            "_view_module_version": "1.2.0",
            "_view_name": "LayoutView",
            "align_content": null,
            "align_items": null,
            "align_self": null,
            "border": null,
            "bottom": null,
            "display": null,
            "flex": null,
            "flex_flow": null,
            "grid_area": null,
            "grid_auto_columns": null,
            "grid_auto_flow": null,
            "grid_auto_rows": null,
            "grid_column": null,
            "grid_gap": null,
            "grid_row": null,
            "grid_template_areas": null,
            "grid_template_columns": null,
            "grid_template_rows": null,
            "height": null,
            "justify_content": null,
            "justify_items": null,
            "left": null,
            "margin": null,
            "max_height": null,
            "max_width": null,
            "min_height": null,
            "min_width": null,
            "object_fit": null,
            "object_position": null,
            "order": null,
            "overflow": null,
            "overflow_x": null,
            "overflow_y": null,
            "padding": null,
            "right": null,
            "top": null,
            "visibility": null,
            "width": null
          }
        },
        "b6a46d051d8644a1b2b6a8d047434679": {
          "model_module": "@jupyter-widgets/controls",
          "model_module_version": "1.5.0",
          "model_name": "HTMLModel",
          "state": {
            "_dom_classes": [],
            "_model_module": "@jupyter-widgets/controls",
            "_model_module_version": "1.5.0",
            "_model_name": "HTMLModel",
            "_view_count": null,
            "_view_module": "@jupyter-widgets/controls",
            "_view_module_version": "1.5.0",
            "_view_name": "HTMLView",
            "description": "",
            "description_tooltip": null,
            "layout": "IPY_MODEL_a862a93dfc4f4c629e30fb83a4945761",
            "placeholder": "​",
            "style": "IPY_MODEL_d2a827bbace54cbfac428c0af3e1b995",
            "value": " 39984/50000 [00:00&lt;00:00, 217896.87 examples/s]"
          }
        },
        "b9bad9607ce344d1b0fa7b79cc57342a": {
          "model_module": "@jupyter-widgets/controls",
          "model_module_version": "1.5.0",
          "model_name": "ProgressStyleModel",
          "state": {
            "_model_module": "@jupyter-widgets/controls",
            "_model_module_version": "1.5.0",
            "_model_name": "ProgressStyleModel",
            "_view_count": null,
            "_view_module": "@jupyter-widgets/base",
            "_view_module_version": "1.2.0",
            "_view_name": "StyleView",
            "bar_color": null,
            "description_width": ""
          }
        },
        "ba1493265a9e48a189f6504a317dcf9b": {
          "model_module": "@jupyter-widgets/controls",
          "model_module_version": "1.5.0",
          "model_name": "FloatProgressModel",
          "state": {
            "_dom_classes": [],
            "_model_module": "@jupyter-widgets/controls",
            "_model_module_version": "1.5.0",
            "_model_name": "FloatProgressModel",
            "_view_count": null,
            "_view_module": "@jupyter-widgets/controls",
            "_view_module_version": "1.5.0",
            "_view_name": "ProgressView",
            "bar_style": "",
            "description": "",
            "description_tooltip": null,
            "layout": "IPY_MODEL_6889bb74b9504900991cf0811dadf195",
            "max": 50000,
            "min": 0,
            "orientation": "horizontal",
            "style": "IPY_MODEL_93294a99b49c42cdad2dd8f9a71c3d42",
            "value": 50000
          }
        },
        "be76102dacbb4cd7a68c09b5a5733aaa": {
          "model_module": "@jupyter-widgets/controls",
          "model_module_version": "1.5.0",
          "model_name": "HTMLModel",
          "state": {
            "_dom_classes": [],
            "_model_module": "@jupyter-widgets/controls",
            "_model_module_version": "1.5.0",
            "_model_name": "HTMLModel",
            "_view_count": null,
            "_view_module": "@jupyter-widgets/controls",
            "_view_module_version": "1.5.0",
            "_view_name": "HTMLView",
            "description": "",
            "description_tooltip": null,
            "layout": "IPY_MODEL_35b331aed02f4633a71092bf2fb00889",
            "placeholder": "​",
            "style": "IPY_MODEL_1b6f72c5fa3644f580d771dd926b392f",
            "value": "Dl Completed...: 100%"
          }
        },
        "c01947bbbff24f2b915083aa688ebfc3": {
          "model_module": "@jupyter-widgets/controls",
          "model_module_version": "1.5.0",
          "model_name": "HBoxModel",
          "state": {
            "_dom_classes": [],
            "_model_module": "@jupyter-widgets/controls",
            "_model_module_version": "1.5.0",
            "_model_name": "HBoxModel",
            "_view_count": null,
            "_view_module": "@jupyter-widgets/controls",
            "_view_module_version": "1.5.0",
            "_view_name": "HBoxView",
            "box_style": "",
            "children": [
              "IPY_MODEL_a1f0baf85ef844c78638744ee603c878",
              "IPY_MODEL_f35b263062024f31a3c73649826eddbd",
              "IPY_MODEL_90ba017ec5324795b09fc3b183d87d7a"
            ],
            "layout": "IPY_MODEL_8792fbb950294d1fa2c04bad4c2a64c1"
          }
        },
        "c023a3cb01ce42f79090f930da5bb27b": {
          "model_module": "@jupyter-widgets/controls",
          "model_module_version": "1.5.0",
          "model_name": "HTMLModel",
          "state": {
            "_dom_classes": [],
            "_model_module": "@jupyter-widgets/controls",
            "_model_module_version": "1.5.0",
            "_model_name": "HTMLModel",
            "_view_count": null,
            "_view_module": "@jupyter-widgets/controls",
            "_view_module_version": "1.5.0",
            "_view_name": "HTMLView",
            "description": "",
            "description_tooltip": null,
            "layout": "IPY_MODEL_4d53a9c8db4b42b3b1db6a9426087cbf",
            "placeholder": "​",
            "style": "IPY_MODEL_25706a087ebf4a19a0ef807b78ec8c91",
            "value": " 15035/25000 [00:00&lt;00:00, 150321.47 examples/s]"
          }
        },
        "c0b380855dcc48ee9894b3532ca20a3a": {
          "model_module": "@jupyter-widgets/controls",
          "model_module_version": "1.5.0",
          "model_name": "HTMLModel",
          "state": {
            "_dom_classes": [],
            "_model_module": "@jupyter-widgets/controls",
            "_model_module_version": "1.5.0",
            "_model_name": "HTMLModel",
            "_view_count": null,
            "_view_module": "@jupyter-widgets/controls",
            "_view_module_version": "1.5.0",
            "_view_name": "HTMLView",
            "description": "",
            "description_tooltip": null,
            "layout": "IPY_MODEL_128269feb396408b8bd2eb55a56ad2a8",
            "placeholder": "​",
            "style": "IPY_MODEL_008535f09f7544c298c66c7fc398ecc7",
            "value": "Shuffling /root/tensorflow_datasets/imdb_reviews/plain_text/1.0.0.incompleteKAFX4Y/imdb_reviews-test.tfrecord*...:  35%"
          }
        },
        "c10258721abf451395d3178796654d16": {
          "model_module": "@jupyter-widgets/controls",
          "model_module_version": "1.5.0",
          "model_name": "ProgressStyleModel",
          "state": {
            "_model_module": "@jupyter-widgets/controls",
            "_model_module_version": "1.5.0",
            "_model_name": "ProgressStyleModel",
            "_view_count": null,
            "_view_module": "@jupyter-widgets/base",
            "_view_module_version": "1.2.0",
            "_view_name": "StyleView",
            "bar_color": null,
            "description_width": ""
          }
        },
        "c14649ab053d4ad68322e5458d7ca6fa": {
          "model_module": "@jupyter-widgets/base",
          "model_module_version": "1.2.0",
          "model_name": "LayoutModel",
          "state": {
            "_model_module": "@jupyter-widgets/base",
            "_model_module_version": "1.2.0",
            "_model_name": "LayoutModel",
            "_view_count": null,
            "_view_module": "@jupyter-widgets/base",
            "_view_module_version": "1.2.0",
            "_view_name": "LayoutView",
            "align_content": null,
            "align_items": null,
            "align_self": null,
            "border": null,
            "bottom": null,
            "display": null,
            "flex": null,
            "flex_flow": null,
            "grid_area": null,
            "grid_auto_columns": null,
            "grid_auto_flow": null,
            "grid_auto_rows": null,
            "grid_column": null,
            "grid_gap": null,
            "grid_row": null,
            "grid_template_areas": null,
            "grid_template_columns": null,
            "grid_template_rows": null,
            "height": null,
            "justify_content": null,
            "justify_items": null,
            "left": null,
            "margin": null,
            "max_height": null,
            "max_width": null,
            "min_height": null,
            "min_width": null,
            "object_fit": null,
            "object_position": null,
            "order": null,
            "overflow": null,
            "overflow_x": null,
            "overflow_y": null,
            "padding": null,
            "right": null,
            "top": null,
            "visibility": null,
            "width": null
          }
        },
        "ca8ab3f37abc4d96aa1bb0e0b2dda6de": {
          "model_module": "@jupyter-widgets/base",
          "model_module_version": "1.2.0",
          "model_name": "LayoutModel",
          "state": {
            "_model_module": "@jupyter-widgets/base",
            "_model_module_version": "1.2.0",
            "_model_name": "LayoutModel",
            "_view_count": null,
            "_view_module": "@jupyter-widgets/base",
            "_view_module_version": "1.2.0",
            "_view_name": "LayoutView",
            "align_content": null,
            "align_items": null,
            "align_self": null,
            "border": null,
            "bottom": null,
            "display": null,
            "flex": null,
            "flex_flow": null,
            "grid_area": null,
            "grid_auto_columns": null,
            "grid_auto_flow": null,
            "grid_auto_rows": null,
            "grid_column": null,
            "grid_gap": null,
            "grid_row": null,
            "grid_template_areas": null,
            "grid_template_columns": null,
            "grid_template_rows": null,
            "height": null,
            "justify_content": null,
            "justify_items": null,
            "left": null,
            "margin": null,
            "max_height": null,
            "max_width": null,
            "min_height": null,
            "min_width": null,
            "object_fit": null,
            "object_position": null,
            "order": null,
            "overflow": null,
            "overflow_x": null,
            "overflow_y": null,
            "padding": null,
            "right": null,
            "top": null,
            "visibility": null,
            "width": null
          }
        },
        "caf85b4f61d541cb936c3e81c7af1575": {
          "model_module": "@jupyter-widgets/controls",
          "model_module_version": "1.5.0",
          "model_name": "HTMLModel",
          "state": {
            "_dom_classes": [],
            "_model_module": "@jupyter-widgets/controls",
            "_model_module_version": "1.5.0",
            "_model_name": "HTMLModel",
            "_view_count": null,
            "_view_module": "@jupyter-widgets/controls",
            "_view_module_version": "1.5.0",
            "_view_name": "HTMLView",
            "description": "",
            "description_tooltip": null,
            "layout": "IPY_MODEL_1769966d020f4badaf2bb93987f49b2f",
            "placeholder": "​",
            "style": "IPY_MODEL_16eed15751984268ad8130933663e130",
            "value": "Generating test examples...:  98%"
          }
        },
        "ccb7dee81c1248d2875e2171e9924508": {
          "model_module": "@jupyter-widgets/controls",
          "model_module_version": "1.5.0",
          "model_name": "DescriptionStyleModel",
          "state": {
            "_model_module": "@jupyter-widgets/controls",
            "_model_module_version": "1.5.0",
            "_model_name": "DescriptionStyleModel",
            "_view_count": null,
            "_view_module": "@jupyter-widgets/base",
            "_view_module_version": "1.2.0",
            "_view_name": "StyleView",
            "description_width": ""
          }
        },
        "ce4216e59803412794145a6d1e972091": {
          "model_module": "@jupyter-widgets/controls",
          "model_module_version": "1.5.0",
          "model_name": "HTMLModel",
          "state": {
            "_dom_classes": [],
            "_model_module": "@jupyter-widgets/controls",
            "_model_module_version": "1.5.0",
            "_model_name": "HTMLModel",
            "_view_count": null,
            "_view_module": "@jupyter-widgets/controls",
            "_view_module_version": "1.5.0",
            "_view_name": "HTMLView",
            "description": "",
            "description_tooltip": null,
            "layout": "IPY_MODEL_35eef20f18664669b6bfa9917c2929d5",
            "placeholder": "​",
            "style": "IPY_MODEL_40bce0a94d244737b5f6632aa20b4446",
            "value": " 80/80 [00:02&lt;00:00, 53.50 MiB/s]"
          }
        },
        "ceca885ab90b4f7d894ade1f45d3c2c5": {
          "model_module": "@jupyter-widgets/controls",
          "model_module_version": "1.5.0",
          "model_name": "DescriptionStyleModel",
          "state": {
            "_model_module": "@jupyter-widgets/controls",
            "_model_module_version": "1.5.0",
            "_model_name": "DescriptionStyleModel",
            "_view_count": null,
            "_view_module": "@jupyter-widgets/base",
            "_view_module_version": "1.2.0",
            "_view_name": "StyleView",
            "description_width": ""
          }
        },
        "d2a827bbace54cbfac428c0af3e1b995": {
          "model_module": "@jupyter-widgets/controls",
          "model_module_version": "1.5.0",
          "model_name": "DescriptionStyleModel",
          "state": {
            "_model_module": "@jupyter-widgets/controls",
            "_model_module_version": "1.5.0",
            "_model_name": "DescriptionStyleModel",
            "_view_count": null,
            "_view_module": "@jupyter-widgets/base",
            "_view_module_version": "1.2.0",
            "_view_name": "StyleView",
            "description_width": ""
          }
        },
        "d624ee8d1be440a6a2c4cbf41be0f3f4": {
          "model_module": "@jupyter-widgets/base",
          "model_module_version": "1.2.0",
          "model_name": "LayoutModel",
          "state": {
            "_model_module": "@jupyter-widgets/base",
            "_model_module_version": "1.2.0",
            "_model_name": "LayoutModel",
            "_view_count": null,
            "_view_module": "@jupyter-widgets/base",
            "_view_module_version": "1.2.0",
            "_view_name": "LayoutView",
            "align_content": null,
            "align_items": null,
            "align_self": null,
            "border": null,
            "bottom": null,
            "display": null,
            "flex": null,
            "flex_flow": null,
            "grid_area": null,
            "grid_auto_columns": null,
            "grid_auto_flow": null,
            "grid_auto_rows": null,
            "grid_column": null,
            "grid_gap": null,
            "grid_row": null,
            "grid_template_areas": null,
            "grid_template_columns": null,
            "grid_template_rows": null,
            "height": null,
            "justify_content": null,
            "justify_items": null,
            "left": null,
            "margin": null,
            "max_height": null,
            "max_width": null,
            "min_height": null,
            "min_width": null,
            "object_fit": null,
            "object_position": null,
            "order": null,
            "overflow": null,
            "overflow_x": null,
            "overflow_y": null,
            "padding": null,
            "right": null,
            "top": null,
            "visibility": "hidden",
            "width": null
          }
        },
        "db63d4ce683a4fa5a85ae0f9ef1f235e": {
          "model_module": "@jupyter-widgets/controls",
          "model_module_version": "1.5.0",
          "model_name": "FloatProgressModel",
          "state": {
            "_dom_classes": [],
            "_model_module": "@jupyter-widgets/controls",
            "_model_module_version": "1.5.0",
            "_model_name": "FloatProgressModel",
            "_view_count": null,
            "_view_module": "@jupyter-widgets/controls",
            "_view_module_version": "1.5.0",
            "_view_name": "ProgressView",
            "bar_style": "",
            "description": "",
            "description_tooltip": null,
            "layout": "IPY_MODEL_9d4d3d16039d4a3e93d08cde55489384",
            "max": 25000,
            "min": 0,
            "orientation": "horizontal",
            "style": "IPY_MODEL_1342077f28eb4cf5b86bb9e78175b228",
            "value": 25000
          }
        },
        "dce558bd10e642cb8b71083a671b03de": {
          "model_module": "@jupyter-widgets/base",
          "model_module_version": "1.2.0",
          "model_name": "LayoutModel",
          "state": {
            "_model_module": "@jupyter-widgets/base",
            "_model_module_version": "1.2.0",
            "_model_name": "LayoutModel",
            "_view_count": null,
            "_view_module": "@jupyter-widgets/base",
            "_view_module_version": "1.2.0",
            "_view_name": "LayoutView",
            "align_content": null,
            "align_items": null,
            "align_self": null,
            "border": null,
            "bottom": null,
            "display": null,
            "flex": null,
            "flex_flow": null,
            "grid_area": null,
            "grid_auto_columns": null,
            "grid_auto_flow": null,
            "grid_auto_rows": null,
            "grid_column": null,
            "grid_gap": null,
            "grid_row": null,
            "grid_template_areas": null,
            "grid_template_columns": null,
            "grid_template_rows": null,
            "height": null,
            "justify_content": null,
            "justify_items": null,
            "left": null,
            "margin": null,
            "max_height": null,
            "max_width": null,
            "min_height": null,
            "min_width": null,
            "object_fit": null,
            "object_position": null,
            "order": null,
            "overflow": null,
            "overflow_x": null,
            "overflow_y": null,
            "padding": null,
            "right": null,
            "top": null,
            "visibility": null,
            "width": null
          }
        },
        "e38c67708cd541e29a0afb5a8fa9c7f7": {
          "model_module": "@jupyter-widgets/controls",
          "model_module_version": "1.5.0",
          "model_name": "ProgressStyleModel",
          "state": {
            "_model_module": "@jupyter-widgets/controls",
            "_model_module_version": "1.5.0",
            "_model_name": "ProgressStyleModel",
            "_view_count": null,
            "_view_module": "@jupyter-widgets/base",
            "_view_module_version": "1.2.0",
            "_view_name": "StyleView",
            "bar_color": null,
            "description_width": ""
          }
        },
        "e4d51b94d2f14ed6b5efedd6348b7d70": {
          "model_module": "@jupyter-widgets/base",
          "model_module_version": "1.2.0",
          "model_name": "LayoutModel",
          "state": {
            "_model_module": "@jupyter-widgets/base",
            "_model_module_version": "1.2.0",
            "_model_name": "LayoutModel",
            "_view_count": null,
            "_view_module": "@jupyter-widgets/base",
            "_view_module_version": "1.2.0",
            "_view_name": "LayoutView",
            "align_content": null,
            "align_items": null,
            "align_self": null,
            "border": null,
            "bottom": null,
            "display": null,
            "flex": null,
            "flex_flow": null,
            "grid_area": null,
            "grid_auto_columns": null,
            "grid_auto_flow": null,
            "grid_auto_rows": null,
            "grid_column": null,
            "grid_gap": null,
            "grid_row": null,
            "grid_template_areas": null,
            "grid_template_columns": null,
            "grid_template_rows": null,
            "height": null,
            "justify_content": null,
            "justify_items": null,
            "left": null,
            "margin": null,
            "max_height": null,
            "max_width": null,
            "min_height": null,
            "min_width": null,
            "object_fit": null,
            "object_position": null,
            "order": null,
            "overflow": null,
            "overflow_x": null,
            "overflow_y": null,
            "padding": null,
            "right": null,
            "top": null,
            "visibility": null,
            "width": null
          }
        },
        "e66a8312e66c480b903889e0daa11083": {
          "model_module": "@jupyter-widgets/base",
          "model_module_version": "1.2.0",
          "model_name": "LayoutModel",
          "state": {
            "_model_module": "@jupyter-widgets/base",
            "_model_module_version": "1.2.0",
            "_model_name": "LayoutModel",
            "_view_count": null,
            "_view_module": "@jupyter-widgets/base",
            "_view_module_version": "1.2.0",
            "_view_name": "LayoutView",
            "align_content": null,
            "align_items": null,
            "align_self": null,
            "border": null,
            "bottom": null,
            "display": null,
            "flex": null,
            "flex_flow": null,
            "grid_area": null,
            "grid_auto_columns": null,
            "grid_auto_flow": null,
            "grid_auto_rows": null,
            "grid_column": null,
            "grid_gap": null,
            "grid_row": null,
            "grid_template_areas": null,
            "grid_template_columns": null,
            "grid_template_rows": null,
            "height": null,
            "justify_content": null,
            "justify_items": null,
            "left": null,
            "margin": null,
            "max_height": null,
            "max_width": null,
            "min_height": null,
            "min_width": null,
            "object_fit": null,
            "object_position": null,
            "order": null,
            "overflow": null,
            "overflow_x": null,
            "overflow_y": null,
            "padding": null,
            "right": null,
            "top": null,
            "visibility": null,
            "width": null
          }
        },
        "e6e0c79bc9de4e96ad15fc596f72294d": {
          "model_module": "@jupyter-widgets/controls",
          "model_module_version": "1.5.0",
          "model_name": "HBoxModel",
          "state": {
            "_dom_classes": [],
            "_model_module": "@jupyter-widgets/controls",
            "_model_module_version": "1.5.0",
            "_model_name": "HBoxModel",
            "_view_count": null,
            "_view_module": "@jupyter-widgets/controls",
            "_view_module_version": "1.5.0",
            "_view_name": "HBoxView",
            "box_style": "",
            "children": [
              "IPY_MODEL_e78c02cb272e445b9f33772936da6040",
              "IPY_MODEL_60350dc378c74cefac275323de8d7841",
              "IPY_MODEL_0d4b4a04b9a241368bde5c32be589e29"
            ],
            "layout": "IPY_MODEL_96c57454166a4e0383aeba8e31e46a51"
          }
        },
        "e70607b30b8f41bb8dbf39f05257c95e": {
          "model_module": "@jupyter-widgets/base",
          "model_module_version": "1.2.0",
          "model_name": "LayoutModel",
          "state": {
            "_model_module": "@jupyter-widgets/base",
            "_model_module_version": "1.2.0",
            "_model_name": "LayoutModel",
            "_view_count": null,
            "_view_module": "@jupyter-widgets/base",
            "_view_module_version": "1.2.0",
            "_view_name": "LayoutView",
            "align_content": null,
            "align_items": null,
            "align_self": null,
            "border": null,
            "bottom": null,
            "display": null,
            "flex": null,
            "flex_flow": null,
            "grid_area": null,
            "grid_auto_columns": null,
            "grid_auto_flow": null,
            "grid_auto_rows": null,
            "grid_column": null,
            "grid_gap": null,
            "grid_row": null,
            "grid_template_areas": null,
            "grid_template_columns": null,
            "grid_template_rows": null,
            "height": null,
            "justify_content": null,
            "justify_items": null,
            "left": null,
            "margin": null,
            "max_height": null,
            "max_width": null,
            "min_height": null,
            "min_width": null,
            "object_fit": null,
            "object_position": null,
            "order": null,
            "overflow": null,
            "overflow_x": null,
            "overflow_y": null,
            "padding": null,
            "right": null,
            "top": null,
            "visibility": null,
            "width": "20px"
          }
        },
        "e78c02cb272e445b9f33772936da6040": {
          "model_module": "@jupyter-widgets/controls",
          "model_module_version": "1.5.0",
          "model_name": "HTMLModel",
          "state": {
            "_dom_classes": [],
            "_model_module": "@jupyter-widgets/controls",
            "_model_module_version": "1.5.0",
            "_model_name": "HTMLModel",
            "_view_count": null,
            "_view_module": "@jupyter-widgets/controls",
            "_view_module_version": "1.5.0",
            "_view_name": "HTMLView",
            "description": "",
            "description_tooltip": null,
            "layout": "IPY_MODEL_e7f493753b6c45889e0c682aedb7a1f3",
            "placeholder": "​",
            "style": "IPY_MODEL_8894ec2e0a43489686fbf12806dafdbf",
            "value": "Generating splits...: 100%"
          }
        },
        "e7cae897684d4c6ba48927fd3991e193": {
          "model_module": "@jupyter-widgets/controls",
          "model_module_version": "1.5.0",
          "model_name": "FloatProgressModel",
          "state": {
            "_dom_classes": [],
            "_model_module": "@jupyter-widgets/controls",
            "_model_module_version": "1.5.0",
            "_model_name": "FloatProgressModel",
            "_view_count": null,
            "_view_module": "@jupyter-widgets/controls",
            "_view_module_version": "1.5.0",
            "_view_name": "ProgressView",
            "bar_style": "success",
            "description": "",
            "description_tooltip": null,
            "layout": "IPY_MODEL_3772af58b1994eaa8978eb99a5517205",
            "max": 1,
            "min": 0,
            "orientation": "horizontal",
            "style": "IPY_MODEL_55aef4cb517e4954a1771fbb68947669",
            "value": 1
          }
        },
        "e7f493753b6c45889e0c682aedb7a1f3": {
          "model_module": "@jupyter-widgets/base",
          "model_module_version": "1.2.0",
          "model_name": "LayoutModel",
          "state": {
            "_model_module": "@jupyter-widgets/base",
            "_model_module_version": "1.2.0",
            "_model_name": "LayoutModel",
            "_view_count": null,
            "_view_module": "@jupyter-widgets/base",
            "_view_module_version": "1.2.0",
            "_view_name": "LayoutView",
            "align_content": null,
            "align_items": null,
            "align_self": null,
            "border": null,
            "bottom": null,
            "display": null,
            "flex": null,
            "flex_flow": null,
            "grid_area": null,
            "grid_auto_columns": null,
            "grid_auto_flow": null,
            "grid_auto_rows": null,
            "grid_column": null,
            "grid_gap": null,
            "grid_row": null,
            "grid_template_areas": null,
            "grid_template_columns": null,
            "grid_template_rows": null,
            "height": null,
            "justify_content": null,
            "justify_items": null,
            "left": null,
            "margin": null,
            "max_height": null,
            "max_width": null,
            "min_height": null,
            "min_width": null,
            "object_fit": null,
            "object_position": null,
            "order": null,
            "overflow": null,
            "overflow_x": null,
            "overflow_y": null,
            "padding": null,
            "right": null,
            "top": null,
            "visibility": null,
            "width": null
          }
        },
        "ea78e5d8a3fc4156909069a8faa1907d": {
          "model_module": "@jupyter-widgets/controls",
          "model_module_version": "1.5.0",
          "model_name": "DescriptionStyleModel",
          "state": {
            "_model_module": "@jupyter-widgets/controls",
            "_model_module_version": "1.5.0",
            "_model_name": "DescriptionStyleModel",
            "_view_count": null,
            "_view_module": "@jupyter-widgets/base",
            "_view_module_version": "1.2.0",
            "_view_name": "StyleView",
            "description_width": ""
          }
        },
        "f35b263062024f31a3c73649826eddbd": {
          "model_module": "@jupyter-widgets/controls",
          "model_module_version": "1.5.0",
          "model_name": "FloatProgressModel",
          "state": {
            "_dom_classes": [],
            "_model_module": "@jupyter-widgets/controls",
            "_model_module_version": "1.5.0",
            "_model_name": "FloatProgressModel",
            "_view_count": null,
            "_view_module": "@jupyter-widgets/controls",
            "_view_module_version": "1.5.0",
            "_view_name": "ProgressView",
            "bar_style": "",
            "description": "",
            "description_tooltip": null,
            "layout": "IPY_MODEL_b446c42995de49a5badc2463547828b8",
            "max": 50000,
            "min": 0,
            "orientation": "horizontal",
            "style": "IPY_MODEL_b9bad9607ce344d1b0fa7b79cc57342a",
            "value": 50000
          }
        },
        "f4ce31e3c29e4cb4ab355f0d44a92054": {
          "model_module": "@jupyter-widgets/controls",
          "model_module_version": "1.5.0",
          "model_name": "HTMLModel",
          "state": {
            "_dom_classes": [],
            "_model_module": "@jupyter-widgets/controls",
            "_model_module_version": "1.5.0",
            "_model_name": "HTMLModel",
            "_view_count": null,
            "_view_module": "@jupyter-widgets/controls",
            "_view_module_version": "1.5.0",
            "_view_name": "HTMLView",
            "description": "",
            "description_tooltip": null,
            "layout": "IPY_MODEL_4ad33f1aba7e47ebb387d4c4066604b0",
            "placeholder": "​",
            "style": "IPY_MODEL_f74c35dfd3934df8bcf4f072d070d327",
            "value": " 1/1 [00:02&lt;00:00,  2.96s/ url]"
          }
        },
        "f68e7941ff764a138c7b6573899d6f00": {
          "model_module": "@jupyter-widgets/base",
          "model_module_version": "1.2.0",
          "model_name": "LayoutModel",
          "state": {
            "_model_module": "@jupyter-widgets/base",
            "_model_module_version": "1.2.0",
            "_model_name": "LayoutModel",
            "_view_count": null,
            "_view_module": "@jupyter-widgets/base",
            "_view_module_version": "1.2.0",
            "_view_name": "LayoutView",
            "align_content": null,
            "align_items": null,
            "align_self": null,
            "border": null,
            "bottom": null,
            "display": null,
            "flex": null,
            "flex_flow": null,
            "grid_area": null,
            "grid_auto_columns": null,
            "grid_auto_flow": null,
            "grid_auto_rows": null,
            "grid_column": null,
            "grid_gap": null,
            "grid_row": null,
            "grid_template_areas": null,
            "grid_template_columns": null,
            "grid_template_rows": null,
            "height": null,
            "justify_content": null,
            "justify_items": null,
            "left": null,
            "margin": null,
            "max_height": null,
            "max_width": null,
            "min_height": null,
            "min_width": null,
            "object_fit": null,
            "object_position": null,
            "order": null,
            "overflow": null,
            "overflow_x": null,
            "overflow_y": null,
            "padding": null,
            "right": null,
            "top": null,
            "visibility": null,
            "width": null
          }
        },
        "f74c35dfd3934df8bcf4f072d070d327": {
          "model_module": "@jupyter-widgets/controls",
          "model_module_version": "1.5.0",
          "model_name": "DescriptionStyleModel",
          "state": {
            "_model_module": "@jupyter-widgets/controls",
            "_model_module_version": "1.5.0",
            "_model_name": "DescriptionStyleModel",
            "_view_count": null,
            "_view_module": "@jupyter-widgets/base",
            "_view_module_version": "1.2.0",
            "_view_name": "StyleView",
            "description_width": ""
          }
        },
        "f7ddcc3de45e49d38b642f6521daa60d": {
          "model_module": "@jupyter-widgets/controls",
          "model_module_version": "1.5.0",
          "model_name": "HBoxModel",
          "state": {
            "_dom_classes": [],
            "_model_module": "@jupyter-widgets/controls",
            "_model_module_version": "1.5.0",
            "_model_name": "HBoxModel",
            "_view_count": null,
            "_view_module": "@jupyter-widgets/controls",
            "_view_module_version": "1.5.0",
            "_view_name": "HBoxView",
            "box_style": "",
            "children": [
              "IPY_MODEL_caf85b4f61d541cb936c3e81c7af1575",
              "IPY_MODEL_79d6bb826d04413c8bc8038ca565dab1",
              "IPY_MODEL_43b9c47a05124f119f0d4f5cf6dc960c"
            ],
            "layout": "IPY_MODEL_5775d060e7cb4874976486a923dbaa4d"
          }
        },
        "f9e5dcbcb9a1496e9b9a95834dcbe9c7": {
          "model_module": "@jupyter-widgets/base",
          "model_module_version": "1.2.0",
          "model_name": "LayoutModel",
          "state": {
            "_model_module": "@jupyter-widgets/base",
            "_model_module_version": "1.2.0",
            "_model_name": "LayoutModel",
            "_view_count": null,
            "_view_module": "@jupyter-widgets/base",
            "_view_module_version": "1.2.0",
            "_view_name": "LayoutView",
            "align_content": null,
            "align_items": null,
            "align_self": null,
            "border": null,
            "bottom": null,
            "display": null,
            "flex": null,
            "flex_flow": null,
            "grid_area": null,
            "grid_auto_columns": null,
            "grid_auto_flow": null,
            "grid_auto_rows": null,
            "grid_column": null,
            "grid_gap": null,
            "grid_row": null,
            "grid_template_areas": null,
            "grid_template_columns": null,
            "grid_template_rows": null,
            "height": null,
            "justify_content": null,
            "justify_items": null,
            "left": null,
            "margin": null,
            "max_height": null,
            "max_width": null,
            "min_height": null,
            "min_width": null,
            "object_fit": null,
            "object_position": null,
            "order": null,
            "overflow": null,
            "overflow_x": null,
            "overflow_y": null,
            "padding": null,
            "right": null,
            "top": null,
            "visibility": null,
            "width": null
          }
        },
        "fb04a7add0564b96ac1ab6c46b22b2f9": {
          "model_module": "@jupyter-widgets/base",
          "model_module_version": "1.2.0",
          "model_name": "LayoutModel",
          "state": {
            "_model_module": "@jupyter-widgets/base",
            "_model_module_version": "1.2.0",
            "_model_name": "LayoutModel",
            "_view_count": null,
            "_view_module": "@jupyter-widgets/base",
            "_view_module_version": "1.2.0",
            "_view_name": "LayoutView",
            "align_content": null,
            "align_items": null,
            "align_self": null,
            "border": null,
            "bottom": null,
            "display": null,
            "flex": null,
            "flex_flow": null,
            "grid_area": null,
            "grid_auto_columns": null,
            "grid_auto_flow": null,
            "grid_auto_rows": null,
            "grid_column": null,
            "grid_gap": null,
            "grid_row": null,
            "grid_template_areas": null,
            "grid_template_columns": null,
            "grid_template_rows": null,
            "height": null,
            "justify_content": null,
            "justify_items": null,
            "left": null,
            "margin": null,
            "max_height": null,
            "max_width": null,
            "min_height": null,
            "min_width": null,
            "object_fit": null,
            "object_position": null,
            "order": null,
            "overflow": null,
            "overflow_x": null,
            "overflow_y": null,
            "padding": null,
            "right": null,
            "top": null,
            "visibility": null,
            "width": null
          }
        },
        "fbb71b1dc0d04fe7a8f0facf537bd5ab": {
          "model_module": "@jupyter-widgets/controls",
          "model_module_version": "1.5.0",
          "model_name": "HBoxModel",
          "state": {
            "_dom_classes": [],
            "_model_module": "@jupyter-widgets/controls",
            "_model_module_version": "1.5.0",
            "_model_name": "HBoxModel",
            "_view_count": null,
            "_view_module": "@jupyter-widgets/controls",
            "_view_module_version": "1.5.0",
            "_view_name": "HBoxView",
            "box_style": "",
            "children": [
              "IPY_MODEL_719fca7295924089ad40dd9c418baa82",
              "IPY_MODEL_8537589c5fbb4d9ebd7a4a8e2ae50a14",
              "IPY_MODEL_c023a3cb01ce42f79090f930da5bb27b"
            ],
            "layout": "IPY_MODEL_25988dbd9df34a3987593b242884e080"
          }
        },
        "ff13b5a7ef634d8aad1af1bad2432b4e": {
          "model_module": "@jupyter-widgets/controls",
          "model_module_version": "1.5.0",
          "model_name": "ProgressStyleModel",
          "state": {
            "_model_module": "@jupyter-widgets/controls",
            "_model_module_version": "1.5.0",
            "_model_name": "ProgressStyleModel",
            "_view_count": null,
            "_view_module": "@jupyter-widgets/base",
            "_view_module_version": "1.2.0",
            "_view_name": "StyleView",
            "bar_color": null,
            "description_width": ""
          }
        },
        "ff86487cd44e4b669a1db9d4176f053c": {
          "model_module": "@jupyter-widgets/controls",
          "model_module_version": "1.5.0",
          "model_name": "DescriptionStyleModel",
          "state": {
            "_model_module": "@jupyter-widgets/controls",
            "_model_module_version": "1.5.0",
            "_model_name": "DescriptionStyleModel",
            "_view_count": null,
            "_view_module": "@jupyter-widgets/base",
            "_view_module_version": "1.2.0",
            "_view_name": "StyleView",
            "description_width": ""
          }
        }
      }
    }
  },
  "nbformat": 4,
  "nbformat_minor": 0
}
